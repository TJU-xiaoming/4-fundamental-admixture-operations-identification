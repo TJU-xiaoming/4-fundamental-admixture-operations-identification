{
 "cells": [
  {
   "cell_type": "code",
   "execution_count": 1,
   "metadata": {},
   "outputs": [
    {
     "name": "stdout",
     "output_type": "stream",
     "text": [
      "GPU0 Memory: 11172MB\n"
     ]
    }
   ],
   "source": [
    "from pynvml import *\n",
    "\n",
    "nvmlInit()\n",
    "vram = nvmlDeviceGetMemoryInfo(nvmlDeviceGetHandleByIndex(0)).free/1024.**2\n",
    "print('GPU0 Memory: %dMB' % vram)\n",
    "if vram < 8000:\n",
    "    raise Exception('GPU Memory too low')\n",
    "nvmlShutdown()"
   ]
  },
  {
   "cell_type": "code",
   "execution_count": 2,
   "metadata": {},
   "outputs": [
    {
     "name": "stderr",
     "output_type": "stream",
     "text": [
      "Using TensorFlow backend.\n"
     ]
    }
   ],
   "source": [
    "import os\n",
    "import cv2\n",
    "import h5py\n",
    "import numpy as np\n",
    "import matplotlib.pyplot as plt\n",
    "from IPython.display import *\n",
    "from collections import Counter\n",
    "import seaborn as sns\n",
    "from tqdm import tqdm\n",
    "import pandas as pd\n",
    "import re\n",
    "import time\n",
    "import random\n",
    "\n",
    "from keras.layers import *\n",
    "from keras.models import *\n",
    "from keras.optimizers import *\n",
    "from keras.regularizers import l2\n",
    "from keras.utils.vis_utils import model_to_dot\n",
    "import keras.backend as K\n",
    "from make_parallel import make_parallel\n",
    "\n",
    "%matplotlib inline\n",
    "%config InlineBackend.figure_format = 'retina'\n",
    "IMAGE_DIR = 'image_contest_level_2'\n",
    "\n",
    "DESCRIPTION = 'l2加层生成器2'\n",
    "MODEL_NAME = 'model_%s_best.h5' % DESCRIPTION"
   ]
  },
  {
   "cell_type": "markdown",
   "metadata": {},
   "source": [
    "# 载入基本数据"
   ]
  },
  {
   "cell_type": "code",
   "execution_count": 3,
   "metadata": {
    "collapsed": true
   },
   "outputs": [],
   "source": [
    "df = pd.read_csv('image_contest_level_2/labels.txt', sep=' ', header=None)\n",
    "characters = u'0123456789()+-*/=君不见黄河之水天上来奔流到海复回烟锁池塘柳深圳铁板烧; '\n",
    "\n",
    "labels_len = np.array(map(lambda x:len(x.decode('utf-8')), df[0]))\n",
    "n_len = 45\n",
    "n, width, height, n_class, channels = 100000, 900, 72, len(characters), 3"
   ]
  },
  {
   "cell_type": "code",
   "execution_count": 4,
   "metadata": {
    "collapsed": true
   },
   "outputs": [],
   "source": [
    "def decode(out):\n",
    "    return ''.join([characters[x] for x in out if x < n_class-1 and x > -1])\n",
    "\n",
    "def disp2(img):\n",
    "    cv2.imwrite('a.png', img)\n",
    "    return display(Image('a.png'))\n",
    "\n",
    "def disp(img, txt=None, first=False):\n",
    "    global index\n",
    "    if first:\n",
    "        index = 1\n",
    "        plt.figure(figsize=(16, 9))\n",
    "    else:\n",
    "        index += 1\n",
    "    plt.subplot(4, 1, index)\n",
    "    if len(img.shape) == 2:\n",
    "        plt.imshow(img, cmap='gray')\n",
    "    else:\n",
    "        plt.imshow(img[:,:,::-1])\n",
    "    if txt:\n",
    "        plt.title(txt)"
   ]
  },
  {
   "cell_type": "markdown",
   "metadata": {},
   "source": [
    "# 构建模型"
   ]
  },
  {
   "cell_type": "code",
   "execution_count": 5,
   "metadata": {},
   "outputs": [
    {
     "name": "stdout",
     "output_type": "stream",
     "text": [
      "[None, 112, 9, 128] 112 1152\n"
     ]
    }
   ],
   "source": [
    "def ctc_lambda_func(args):\n",
    "    y_pred, labels, input_length, label_length = args\n",
    "    y_pred = y_pred[:, 2:, :]\n",
    "    return K.ctc_batch_cost(labels, y_pred, input_length, label_length)\n",
    "\n",
    "rnn_size = 128\n",
    "\n",
    "l2_rate = 1e-5\n",
    "\n",
    "input_tensor = Input((width, height, 3))\n",
    "x = input_tensor\n",
    "for i, n_cnn in enumerate([2, 3, 6]):\n",
    "    for j in range(n_cnn):\n",
    "        x = Conv2D(32*2**i, (3, 3), padding='same', kernel_initializer='he_normal', kernel_regularizer=l2(l2_rate))(x)\n",
    "        x = BatchNormalization()(x)\n",
    "        x = Activation('relu')(x)\n",
    "    x = MaxPooling2D((2, 2))(x)\n",
    "\n",
    "cnn_model = Model(input_tensor, x, name='cnn')\n",
    "\n",
    "input_tensor = Input((width, height, 3))\n",
    "x = cnn_model(input_tensor)\n",
    "\n",
    "conv_shape = x.get_shape().as_list()\n",
    "rnn_length = conv_shape[1]\n",
    "rnn_dimen = conv_shape[3]*conv_shape[2]\n",
    "\n",
    "print(conv_shape, rnn_length, rnn_dimen)\n",
    "\n",
    "x = Reshape(target_shape=(rnn_length, rnn_dimen))(x)\n",
    "rnn_length -= 2\n",
    "\n",
    "x = Dense(rnn_size, kernel_initializer='he_normal', kernel_regularizer=l2(l2_rate))(x)\n",
    "x = BatchNormalization()(x)\n",
    "x = Activation('relu')(x)\n",
    "x = Dropout(0.25)(x)\n",
    "\n",
    "gru_1 = GRU(rnn_size, implementation=2, return_sequences=True, name='gru1')(x)\n",
    "gru_1b = GRU(rnn_size, implementation=2, return_sequences=True, go_backwards=True, name='gru1_b')(x)\n",
    "gru1_merged = add([gru_1, gru_1b])\n",
    "\n",
    "gru_2 = GRU(rnn_size, implementation=2, return_sequences=True, name='gru2')(gru1_merged)\n",
    "gru_2b = GRU(rnn_size, implementation=2, return_sequences=True, go_backwards=True, name='gru2_b')(gru1_merged)\n",
    "x = concatenate([gru_2, gru_2b])\n",
    "x = Dropout(0.25)(x)\n",
    "x = Dense(n_class, activation='softmax', kernel_regularizer=l2(l2_rate))(x)\n",
    "rnn_out = x\n",
    "base_model = Model(input_tensor, x)\n",
    "\n",
    "base_model2 = make_parallel(base_model, 4)\n",
    "\n",
    "labels = Input(name='the_labels', shape=[n_len], dtype='float32')\n",
    "input_length = Input(name='input_length', shape=(1,), dtype='int64')\n",
    "label_length = Input(name='label_length', shape=(1,), dtype='int64')\n",
    "loss_out = Lambda(ctc_lambda_func, name='ctc')([base_model2.output, labels, input_length, label_length])\n",
    "\n",
    "model = Model(inputs=(input_tensor, labels, input_length, label_length), outputs=loss_out)\n",
    "model.compile(loss={'ctc': lambda y_true, y_pred: y_pred}, optimizer='adam')\n",
    "model.save('test.h5')"
   ]
  },
  {
   "cell_type": "code",
   "execution_count": 6,
   "metadata": {
    "scrolled": false
   },
   "outputs": [
    {
     "data": {
      "image/svg+xml": [
       "<svg height=\"1051pt\" viewBox=\"0.00 0.00 524.00 1051.00\" width=\"524pt\" xmlns=\"http://www.w3.org/2000/svg\" xmlns:xlink=\"http://www.w3.org/1999/xlink\">\n",
       "<g class=\"graph\" id=\"graph0\" transform=\"scale(1 1) rotate(0) translate(4 1047)\">\n",
       "<title>G</title>\n",
       "<polygon fill=\"white\" points=\"-4,4 -4,-1047 520,-1047 520,4 -4,4\" stroke=\"none\"/>\n",
       "<!-- 140494107021200 -->\n",
       "<g class=\"node\" id=\"node1\"><title>140494107021200</title>\n",
       "<polygon fill=\"none\" points=\"105,-996.5 105,-1042.5 403,-1042.5 403,-996.5 105,-996.5\" stroke=\"black\"/>\n",
       "<text font-family=\"Times,serif\" font-size=\"14.00\" text-anchor=\"middle\" x=\"167.5\" y=\"-1015.8\">input_2: InputLayer</text>\n",
       "<polyline fill=\"none\" points=\"230,-996.5 230,-1042.5 \" stroke=\"black\"/>\n",
       "<text font-family=\"Times,serif\" font-size=\"14.00\" text-anchor=\"middle\" x=\"257.5\" y=\"-1027.3\">input:</text>\n",
       "<polyline fill=\"none\" points=\"230,-1019.5 285,-1019.5 \" stroke=\"black\"/>\n",
       "<text font-family=\"Times,serif\" font-size=\"14.00\" text-anchor=\"middle\" x=\"257.5\" y=\"-1004.3\">output:</text>\n",
       "<polyline fill=\"none\" points=\"285,-996.5 285,-1042.5 \" stroke=\"black\"/>\n",
       "<text font-family=\"Times,serif\" font-size=\"14.00\" text-anchor=\"middle\" x=\"344\" y=\"-1027.3\">(None, 900, 72, 3)</text>\n",
       "<polyline fill=\"none\" points=\"285,-1019.5 403,-1019.5 \" stroke=\"black\"/>\n",
       "<text font-family=\"Times,serif\" font-size=\"14.00\" text-anchor=\"middle\" x=\"344\" y=\"-1004.3\">(None, 900, 72, 3)</text>\n",
       "</g>\n",
       "<!-- 140494085157328 -->\n",
       "<g class=\"node\" id=\"node2\"><title>140494085157328</title>\n",
       "<polygon fill=\"none\" points=\"124,-913.5 124,-959.5 384,-959.5 384,-913.5 124,-913.5\" stroke=\"black\"/>\n",
       "<text font-family=\"Times,serif\" font-size=\"14.00\" text-anchor=\"middle\" x=\"164\" y=\"-932.8\">cnn: Model</text>\n",
       "<polyline fill=\"none\" points=\"204,-913.5 204,-959.5 \" stroke=\"black\"/>\n",
       "<text font-family=\"Times,serif\" font-size=\"14.00\" text-anchor=\"middle\" x=\"231.5\" y=\"-944.3\">input:</text>\n",
       "<polyline fill=\"none\" points=\"204,-936.5 259,-936.5 \" stroke=\"black\"/>\n",
       "<text font-family=\"Times,serif\" font-size=\"14.00\" text-anchor=\"middle\" x=\"231.5\" y=\"-921.3\">output:</text>\n",
       "<polyline fill=\"none\" points=\"259,-913.5 259,-959.5 \" stroke=\"black\"/>\n",
       "<text font-family=\"Times,serif\" font-size=\"14.00\" text-anchor=\"middle\" x=\"321.5\" y=\"-944.3\">(None, 900, 72, 3)</text>\n",
       "<polyline fill=\"none\" points=\"259,-936.5 384,-936.5 \" stroke=\"black\"/>\n",
       "<text font-family=\"Times,serif\" font-size=\"14.00\" text-anchor=\"middle\" x=\"321.5\" y=\"-921.3\">(None, 112, 9, 128)</text>\n",
       "</g>\n",
       "<!-- 140494107021200&#45;&gt;140494085157328 -->\n",
       "<g class=\"edge\" id=\"edge1\"><title>140494107021200-&gt;140494085157328</title>\n",
       "<path d=\"M254,-996.366C254,-988.152 254,-978.658 254,-969.725\" fill=\"none\" stroke=\"black\"/>\n",
       "<polygon fill=\"black\" points=\"257.5,-969.607 254,-959.607 250.5,-969.607 257.5,-969.607\" stroke=\"black\"/>\n",
       "</g>\n",
       "<!-- 140494107003728 -->\n",
       "<g class=\"node\" id=\"node3\"><title>140494107003728</title>\n",
       "<polygon fill=\"none\" points=\"101.5,-830.5 101.5,-876.5 406.5,-876.5 406.5,-830.5 101.5,-830.5\" stroke=\"black\"/>\n",
       "<text font-family=\"Times,serif\" font-size=\"14.00\" text-anchor=\"middle\" x=\"164\" y=\"-849.8\">reshape_1: Reshape</text>\n",
       "<polyline fill=\"none\" points=\"226.5,-830.5 226.5,-876.5 \" stroke=\"black\"/>\n",
       "<text font-family=\"Times,serif\" font-size=\"14.00\" text-anchor=\"middle\" x=\"254\" y=\"-861.3\">input:</text>\n",
       "<polyline fill=\"none\" points=\"226.5,-853.5 281.5,-853.5 \" stroke=\"black\"/>\n",
       "<text font-family=\"Times,serif\" font-size=\"14.00\" text-anchor=\"middle\" x=\"254\" y=\"-838.3\">output:</text>\n",
       "<polyline fill=\"none\" points=\"281.5,-830.5 281.5,-876.5 \" stroke=\"black\"/>\n",
       "<text font-family=\"Times,serif\" font-size=\"14.00\" text-anchor=\"middle\" x=\"344\" y=\"-861.3\">(None, 112, 9, 128)</text>\n",
       "<polyline fill=\"none\" points=\"281.5,-853.5 406.5,-853.5 \" stroke=\"black\"/>\n",
       "<text font-family=\"Times,serif\" font-size=\"14.00\" text-anchor=\"middle\" x=\"344\" y=\"-838.3\">(None, 112, 1152)</text>\n",
       "</g>\n",
       "<!-- 140494085157328&#45;&gt;140494107003728 -->\n",
       "<g class=\"edge\" id=\"edge2\"><title>140494085157328-&gt;140494107003728</title>\n",
       "<path d=\"M254,-913.366C254,-905.152 254,-895.658 254,-886.725\" fill=\"none\" stroke=\"black\"/>\n",
       "<polygon fill=\"black\" points=\"257.5,-886.607 254,-876.607 250.5,-886.607 257.5,-886.607\" stroke=\"black\"/>\n",
       "</g>\n",
       "<!-- 140494107004048 -->\n",
       "<g class=\"node\" id=\"node4\"><title>140494107004048</title>\n",
       "<polygon fill=\"none\" points=\"117,-747.5 117,-793.5 391,-793.5 391,-747.5 117,-747.5\" stroke=\"black\"/>\n",
       "<text font-family=\"Times,serif\" font-size=\"14.00\" text-anchor=\"middle\" x=\"168\" y=\"-766.8\">dense_1: Dense</text>\n",
       "<polyline fill=\"none\" points=\"219,-747.5 219,-793.5 \" stroke=\"black\"/>\n",
       "<text font-family=\"Times,serif\" font-size=\"14.00\" text-anchor=\"middle\" x=\"246.5\" y=\"-778.3\">input:</text>\n",
       "<polyline fill=\"none\" points=\"219,-770.5 274,-770.5 \" stroke=\"black\"/>\n",
       "<text font-family=\"Times,serif\" font-size=\"14.00\" text-anchor=\"middle\" x=\"246.5\" y=\"-755.3\">output:</text>\n",
       "<polyline fill=\"none\" points=\"274,-747.5 274,-793.5 \" stroke=\"black\"/>\n",
       "<text font-family=\"Times,serif\" font-size=\"14.00\" text-anchor=\"middle\" x=\"332.5\" y=\"-778.3\">(None, 112, 1152)</text>\n",
       "<polyline fill=\"none\" points=\"274,-770.5 391,-770.5 \" stroke=\"black\"/>\n",
       "<text font-family=\"Times,serif\" font-size=\"14.00\" text-anchor=\"middle\" x=\"332.5\" y=\"-755.3\">(None, 112, 128)</text>\n",
       "</g>\n",
       "<!-- 140494107003728&#45;&gt;140494107004048 -->\n",
       "<g class=\"edge\" id=\"edge3\"><title>140494107003728-&gt;140494107004048</title>\n",
       "<path d=\"M254,-830.366C254,-822.152 254,-812.658 254,-803.725\" fill=\"none\" stroke=\"black\"/>\n",
       "<polygon fill=\"black\" points=\"257.5,-803.607 254,-793.607 250.5,-803.607 257.5,-803.607\" stroke=\"black\"/>\n",
       "</g>\n",
       "<!-- 140494106832784 -->\n",
       "<g class=\"node\" id=\"node5\"><title>140494106832784</title>\n",
       "<polygon fill=\"none\" points=\"38.5,-664.5 38.5,-710.5 469.5,-710.5 469.5,-664.5 38.5,-664.5\" stroke=\"black\"/>\n",
       "<text font-family=\"Times,serif\" font-size=\"14.00\" text-anchor=\"middle\" x=\"171.5\" y=\"-683.8\">batch_normalization_12: BatchNormalization</text>\n",
       "<polyline fill=\"none\" points=\"304.5,-664.5 304.5,-710.5 \" stroke=\"black\"/>\n",
       "<text font-family=\"Times,serif\" font-size=\"14.00\" text-anchor=\"middle\" x=\"332\" y=\"-695.3\">input:</text>\n",
       "<polyline fill=\"none\" points=\"304.5,-687.5 359.5,-687.5 \" stroke=\"black\"/>\n",
       "<text font-family=\"Times,serif\" font-size=\"14.00\" text-anchor=\"middle\" x=\"332\" y=\"-672.3\">output:</text>\n",
       "<polyline fill=\"none\" points=\"359.5,-664.5 359.5,-710.5 \" stroke=\"black\"/>\n",
       "<text font-family=\"Times,serif\" font-size=\"14.00\" text-anchor=\"middle\" x=\"414.5\" y=\"-695.3\">(None, 112, 128)</text>\n",
       "<polyline fill=\"none\" points=\"359.5,-687.5 469.5,-687.5 \" stroke=\"black\"/>\n",
       "<text font-family=\"Times,serif\" font-size=\"14.00\" text-anchor=\"middle\" x=\"414.5\" y=\"-672.3\">(None, 112, 128)</text>\n",
       "</g>\n",
       "<!-- 140494107004048&#45;&gt;140494106832784 -->\n",
       "<g class=\"edge\" id=\"edge4\"><title>140494107004048-&gt;140494106832784</title>\n",
       "<path d=\"M254,-747.366C254,-739.152 254,-729.658 254,-720.725\" fill=\"none\" stroke=\"black\"/>\n",
       "<polygon fill=\"black\" points=\"257.5,-720.607 254,-710.607 250.5,-720.607 257.5,-720.607\" stroke=\"black\"/>\n",
       "</g>\n",
       "<!-- 140494103517968 -->\n",
       "<g class=\"node\" id=\"node6\"><title>140494103517968</title>\n",
       "<polygon fill=\"none\" points=\"94,-581.5 94,-627.5 414,-627.5 414,-581.5 94,-581.5\" stroke=\"black\"/>\n",
       "<text font-family=\"Times,serif\" font-size=\"14.00\" text-anchor=\"middle\" x=\"171.5\" y=\"-600.8\">activation_12: Activation</text>\n",
       "<polyline fill=\"none\" points=\"249,-581.5 249,-627.5 \" stroke=\"black\"/>\n",
       "<text font-family=\"Times,serif\" font-size=\"14.00\" text-anchor=\"middle\" x=\"276.5\" y=\"-612.3\">input:</text>\n",
       "<polyline fill=\"none\" points=\"249,-604.5 304,-604.5 \" stroke=\"black\"/>\n",
       "<text font-family=\"Times,serif\" font-size=\"14.00\" text-anchor=\"middle\" x=\"276.5\" y=\"-589.3\">output:</text>\n",
       "<polyline fill=\"none\" points=\"304,-581.5 304,-627.5 \" stroke=\"black\"/>\n",
       "<text font-family=\"Times,serif\" font-size=\"14.00\" text-anchor=\"middle\" x=\"359\" y=\"-612.3\">(None, 112, 128)</text>\n",
       "<polyline fill=\"none\" points=\"304,-604.5 414,-604.5 \" stroke=\"black\"/>\n",
       "<text font-family=\"Times,serif\" font-size=\"14.00\" text-anchor=\"middle\" x=\"359\" y=\"-589.3\">(None, 112, 128)</text>\n",
       "</g>\n",
       "<!-- 140494106832784&#45;&gt;140494103517968 -->\n",
       "<g class=\"edge\" id=\"edge5\"><title>140494106832784-&gt;140494103517968</title>\n",
       "<path d=\"M254,-664.366C254,-656.152 254,-646.658 254,-637.725\" fill=\"none\" stroke=\"black\"/>\n",
       "<polygon fill=\"black\" points=\"257.5,-637.607 254,-627.607 250.5,-637.607 257.5,-637.607\" stroke=\"black\"/>\n",
       "</g>\n",
       "<!-- 140494101851344 -->\n",
       "<g class=\"node\" id=\"node7\"><title>140494101851344</title>\n",
       "<polygon fill=\"none\" points=\"109,-498.5 109,-544.5 399,-544.5 399,-498.5 109,-498.5\" stroke=\"black\"/>\n",
       "<text font-family=\"Times,serif\" font-size=\"14.00\" text-anchor=\"middle\" x=\"171.5\" y=\"-517.8\">dropout_1: Dropout</text>\n",
       "<polyline fill=\"none\" points=\"234,-498.5 234,-544.5 \" stroke=\"black\"/>\n",
       "<text font-family=\"Times,serif\" font-size=\"14.00\" text-anchor=\"middle\" x=\"261.5\" y=\"-529.3\">input:</text>\n",
       "<polyline fill=\"none\" points=\"234,-521.5 289,-521.5 \" stroke=\"black\"/>\n",
       "<text font-family=\"Times,serif\" font-size=\"14.00\" text-anchor=\"middle\" x=\"261.5\" y=\"-506.3\">output:</text>\n",
       "<polyline fill=\"none\" points=\"289,-498.5 289,-544.5 \" stroke=\"black\"/>\n",
       "<text font-family=\"Times,serif\" font-size=\"14.00\" text-anchor=\"middle\" x=\"344\" y=\"-529.3\">(None, 112, 128)</text>\n",
       "<polyline fill=\"none\" points=\"289,-521.5 399,-521.5 \" stroke=\"black\"/>\n",
       "<text font-family=\"Times,serif\" font-size=\"14.00\" text-anchor=\"middle\" x=\"344\" y=\"-506.3\">(None, 112, 128)</text>\n",
       "</g>\n",
       "<!-- 140494103517968&#45;&gt;140494101851344 -->\n",
       "<g class=\"edge\" id=\"edge6\"><title>140494103517968-&gt;140494101851344</title>\n",
       "<path d=\"M254,-581.366C254,-573.152 254,-563.658 254,-554.725\" fill=\"none\" stroke=\"black\"/>\n",
       "<polygon fill=\"black\" points=\"257.5,-554.607 254,-544.607 250.5,-554.607 257.5,-554.607\" stroke=\"black\"/>\n",
       "</g>\n",
       "<!-- 140494101933200 -->\n",
       "<g class=\"node\" id=\"node8\"><title>140494101933200</title>\n",
       "<polygon fill=\"none\" points=\"0,-415.5 0,-461.5 242,-461.5 242,-415.5 0,-415.5\" stroke=\"black\"/>\n",
       "<text font-family=\"Times,serif\" font-size=\"14.00\" text-anchor=\"middle\" x=\"38.5\" y=\"-434.8\">gru1: GRU</text>\n",
       "<polyline fill=\"none\" points=\"77,-415.5 77,-461.5 \" stroke=\"black\"/>\n",
       "<text font-family=\"Times,serif\" font-size=\"14.00\" text-anchor=\"middle\" x=\"104.5\" y=\"-446.3\">input:</text>\n",
       "<polyline fill=\"none\" points=\"77,-438.5 132,-438.5 \" stroke=\"black\"/>\n",
       "<text font-family=\"Times,serif\" font-size=\"14.00\" text-anchor=\"middle\" x=\"104.5\" y=\"-423.3\">output:</text>\n",
       "<polyline fill=\"none\" points=\"132,-415.5 132,-461.5 \" stroke=\"black\"/>\n",
       "<text font-family=\"Times,serif\" font-size=\"14.00\" text-anchor=\"middle\" x=\"187\" y=\"-446.3\">(None, 112, 128)</text>\n",
       "<polyline fill=\"none\" points=\"132,-438.5 242,-438.5 \" stroke=\"black\"/>\n",
       "<text font-family=\"Times,serif\" font-size=\"14.00\" text-anchor=\"middle\" x=\"187\" y=\"-423.3\">(None, 112, 128)</text>\n",
       "</g>\n",
       "<!-- 140494101851344&#45;&gt;140494101933200 -->\n",
       "<g class=\"edge\" id=\"edge7\"><title>140494101851344-&gt;140494101933200</title>\n",
       "<path d=\"M217.657,-498.366C201.676,-488.634 182.748,-477.106 165.896,-466.842\" fill=\"none\" stroke=\"black\"/>\n",
       "<polygon fill=\"black\" points=\"167.66,-463.819 157.299,-461.607 164.019,-469.798 167.66,-463.819\" stroke=\"black\"/>\n",
       "</g>\n",
       "<!-- 140494102541008 -->\n",
       "<g class=\"node\" id=\"node9\"><title>140494102541008</title>\n",
       "<polygon fill=\"none\" points=\"260,-415.5 260,-461.5 516,-461.5 516,-415.5 260,-415.5\" stroke=\"black\"/>\n",
       "<text font-family=\"Times,serif\" font-size=\"14.00\" text-anchor=\"middle\" x=\"305.5\" y=\"-434.8\">gru1_b: GRU</text>\n",
       "<polyline fill=\"none\" points=\"351,-415.5 351,-461.5 \" stroke=\"black\"/>\n",
       "<text font-family=\"Times,serif\" font-size=\"14.00\" text-anchor=\"middle\" x=\"378.5\" y=\"-446.3\">input:</text>\n",
       "<polyline fill=\"none\" points=\"351,-438.5 406,-438.5 \" stroke=\"black\"/>\n",
       "<text font-family=\"Times,serif\" font-size=\"14.00\" text-anchor=\"middle\" x=\"378.5\" y=\"-423.3\">output:</text>\n",
       "<polyline fill=\"none\" points=\"406,-415.5 406,-461.5 \" stroke=\"black\"/>\n",
       "<text font-family=\"Times,serif\" font-size=\"14.00\" text-anchor=\"middle\" x=\"461\" y=\"-446.3\">(None, 112, 128)</text>\n",
       "<polyline fill=\"none\" points=\"406,-438.5 516,-438.5 \" stroke=\"black\"/>\n",
       "<text font-family=\"Times,serif\" font-size=\"14.00\" text-anchor=\"middle\" x=\"461\" y=\"-423.3\">(None, 112, 128)</text>\n",
       "</g>\n",
       "<!-- 140494101851344&#45;&gt;140494102541008 -->\n",
       "<g class=\"edge\" id=\"edge8\"><title>140494101851344-&gt;140494102541008</title>\n",
       "<path d=\"M290.616,-498.366C306.717,-488.634 325.788,-477.106 342.767,-466.842\" fill=\"none\" stroke=\"black\"/>\n",
       "<polygon fill=\"black\" points=\"344.681,-469.775 351.428,-461.607 341.06,-463.785 344.681,-469.775\" stroke=\"black\"/>\n",
       "</g>\n",
       "<!-- 140494101331216 -->\n",
       "<g class=\"node\" id=\"node10\"><title>140494101331216</title>\n",
       "<polygon fill=\"none\" points=\"76,-332.5 76,-378.5 432,-378.5 432,-332.5 76,-332.5\" stroke=\"black\"/>\n",
       "<text font-family=\"Times,serif\" font-size=\"14.00\" text-anchor=\"middle\" x=\"116\" y=\"-351.8\">add_1: Add</text>\n",
       "<polyline fill=\"none\" points=\"156,-332.5 156,-378.5 \" stroke=\"black\"/>\n",
       "<text font-family=\"Times,serif\" font-size=\"14.00\" text-anchor=\"middle\" x=\"183.5\" y=\"-363.3\">input:</text>\n",
       "<polyline fill=\"none\" points=\"156,-355.5 211,-355.5 \" stroke=\"black\"/>\n",
       "<text font-family=\"Times,serif\" font-size=\"14.00\" text-anchor=\"middle\" x=\"183.5\" y=\"-340.3\">output:</text>\n",
       "<polyline fill=\"none\" points=\"211,-332.5 211,-378.5 \" stroke=\"black\"/>\n",
       "<text font-family=\"Times,serif\" font-size=\"14.00\" text-anchor=\"middle\" x=\"321.5\" y=\"-363.3\">[(None, 112, 128), (None, 112, 128)]</text>\n",
       "<polyline fill=\"none\" points=\"211,-355.5 432,-355.5 \" stroke=\"black\"/>\n",
       "<text font-family=\"Times,serif\" font-size=\"14.00\" text-anchor=\"middle\" x=\"321.5\" y=\"-340.3\">(None, 112, 128)</text>\n",
       "</g>\n",
       "<!-- 140494101933200&#45;&gt;140494101331216 -->\n",
       "<g class=\"edge\" id=\"edge9\"><title>140494101933200-&gt;140494101331216</title>\n",
       "<path d=\"M157.343,-415.366C173.324,-405.634 192.252,-394.106 209.104,-383.842\" fill=\"none\" stroke=\"black\"/>\n",
       "<polygon fill=\"black\" points=\"210.981,-386.798 217.701,-378.607 207.34,-380.819 210.981,-386.798\" stroke=\"black\"/>\n",
       "</g>\n",
       "<!-- 140494102541008&#45;&gt;140494101331216 -->\n",
       "<g class=\"edge\" id=\"edge10\"><title>140494102541008-&gt;140494101331216</title>\n",
       "<path d=\"M351.384,-415.366C335.283,-405.634 316.212,-394.106 299.233,-383.842\" fill=\"none\" stroke=\"black\"/>\n",
       "<polygon fill=\"black\" points=\"300.94,-380.785 290.572,-378.607 297.319,-386.775 300.94,-380.785\" stroke=\"black\"/>\n",
       "</g>\n",
       "<!-- 140494099053456 -->\n",
       "<g class=\"node\" id=\"node11\"><title>140494099053456</title>\n",
       "<polygon fill=\"none\" points=\"0,-249.5 0,-295.5 242,-295.5 242,-249.5 0,-249.5\" stroke=\"black\"/>\n",
       "<text font-family=\"Times,serif\" font-size=\"14.00\" text-anchor=\"middle\" x=\"38.5\" y=\"-268.8\">gru2: GRU</text>\n",
       "<polyline fill=\"none\" points=\"77,-249.5 77,-295.5 \" stroke=\"black\"/>\n",
       "<text font-family=\"Times,serif\" font-size=\"14.00\" text-anchor=\"middle\" x=\"104.5\" y=\"-280.3\">input:</text>\n",
       "<polyline fill=\"none\" points=\"77,-272.5 132,-272.5 \" stroke=\"black\"/>\n",
       "<text font-family=\"Times,serif\" font-size=\"14.00\" text-anchor=\"middle\" x=\"104.5\" y=\"-257.3\">output:</text>\n",
       "<polyline fill=\"none\" points=\"132,-249.5 132,-295.5 \" stroke=\"black\"/>\n",
       "<text font-family=\"Times,serif\" font-size=\"14.00\" text-anchor=\"middle\" x=\"187\" y=\"-280.3\">(None, 112, 128)</text>\n",
       "<polyline fill=\"none\" points=\"132,-272.5 242,-272.5 \" stroke=\"black\"/>\n",
       "<text font-family=\"Times,serif\" font-size=\"14.00\" text-anchor=\"middle\" x=\"187\" y=\"-257.3\">(None, 112, 128)</text>\n",
       "</g>\n",
       "<!-- 140494101331216&#45;&gt;140494099053456 -->\n",
       "<g class=\"edge\" id=\"edge11\"><title>140494101331216-&gt;140494099053456</title>\n",
       "<path d=\"M217.657,-332.366C201.676,-322.634 182.748,-311.106 165.896,-300.842\" fill=\"none\" stroke=\"black\"/>\n",
       "<polygon fill=\"black\" points=\"167.66,-297.819 157.299,-295.607 164.019,-303.798 167.66,-297.819\" stroke=\"black\"/>\n",
       "</g>\n",
       "<!-- 140494099053008 -->\n",
       "<g class=\"node\" id=\"node12\"><title>140494099053008</title>\n",
       "<polygon fill=\"none\" points=\"260,-249.5 260,-295.5 516,-295.5 516,-249.5 260,-249.5\" stroke=\"black\"/>\n",
       "<text font-family=\"Times,serif\" font-size=\"14.00\" text-anchor=\"middle\" x=\"305.5\" y=\"-268.8\">gru2_b: GRU</text>\n",
       "<polyline fill=\"none\" points=\"351,-249.5 351,-295.5 \" stroke=\"black\"/>\n",
       "<text font-family=\"Times,serif\" font-size=\"14.00\" text-anchor=\"middle\" x=\"378.5\" y=\"-280.3\">input:</text>\n",
       "<polyline fill=\"none\" points=\"351,-272.5 406,-272.5 \" stroke=\"black\"/>\n",
       "<text font-family=\"Times,serif\" font-size=\"14.00\" text-anchor=\"middle\" x=\"378.5\" y=\"-257.3\">output:</text>\n",
       "<polyline fill=\"none\" points=\"406,-249.5 406,-295.5 \" stroke=\"black\"/>\n",
       "<text font-family=\"Times,serif\" font-size=\"14.00\" text-anchor=\"middle\" x=\"461\" y=\"-280.3\">(None, 112, 128)</text>\n",
       "<polyline fill=\"none\" points=\"406,-272.5 516,-272.5 \" stroke=\"black\"/>\n",
       "<text font-family=\"Times,serif\" font-size=\"14.00\" text-anchor=\"middle\" x=\"461\" y=\"-257.3\">(None, 112, 128)</text>\n",
       "</g>\n",
       "<!-- 140494101331216&#45;&gt;140494099053008 -->\n",
       "<g class=\"edge\" id=\"edge12\"><title>140494101331216-&gt;140494099053008</title>\n",
       "<path d=\"M290.616,-332.366C306.717,-322.634 325.788,-311.106 342.767,-300.842\" fill=\"none\" stroke=\"black\"/>\n",
       "<polygon fill=\"black\" points=\"344.681,-303.775 351.428,-295.607 341.06,-297.785 344.681,-303.775\" stroke=\"black\"/>\n",
       "</g>\n",
       "<!-- 140494095746960 -->\n",
       "<g class=\"node\" id=\"node13\"><title>140494095746960</title>\n",
       "<polygon fill=\"none\" points=\"32,-166.5 32,-212.5 476,-212.5 476,-166.5 32,-166.5\" stroke=\"black\"/>\n",
       "<text font-family=\"Times,serif\" font-size=\"14.00\" text-anchor=\"middle\" x=\"116\" y=\"-185.8\">concatenate_1: Concatenate</text>\n",
       "<polyline fill=\"none\" points=\"200,-166.5 200,-212.5 \" stroke=\"black\"/>\n",
       "<text font-family=\"Times,serif\" font-size=\"14.00\" text-anchor=\"middle\" x=\"227.5\" y=\"-197.3\">input:</text>\n",
       "<polyline fill=\"none\" points=\"200,-189.5 255,-189.5 \" stroke=\"black\"/>\n",
       "<text font-family=\"Times,serif\" font-size=\"14.00\" text-anchor=\"middle\" x=\"227.5\" y=\"-174.3\">output:</text>\n",
       "<polyline fill=\"none\" points=\"255,-166.5 255,-212.5 \" stroke=\"black\"/>\n",
       "<text font-family=\"Times,serif\" font-size=\"14.00\" text-anchor=\"middle\" x=\"365.5\" y=\"-197.3\">[(None, 112, 128), (None, 112, 128)]</text>\n",
       "<polyline fill=\"none\" points=\"255,-189.5 476,-189.5 \" stroke=\"black\"/>\n",
       "<text font-family=\"Times,serif\" font-size=\"14.00\" text-anchor=\"middle\" x=\"365.5\" y=\"-174.3\">(None, 112, 256)</text>\n",
       "</g>\n",
       "<!-- 140494099053456&#45;&gt;140494095746960 -->\n",
       "<g class=\"edge\" id=\"edge13\"><title>140494099053456-&gt;140494095746960</title>\n",
       "<path d=\"M157.343,-249.366C173.324,-239.634 192.252,-228.106 209.104,-217.842\" fill=\"none\" stroke=\"black\"/>\n",
       "<polygon fill=\"black\" points=\"210.981,-220.798 217.701,-212.607 207.34,-214.819 210.981,-220.798\" stroke=\"black\"/>\n",
       "</g>\n",
       "<!-- 140494099053008&#45;&gt;140494095746960 -->\n",
       "<g class=\"edge\" id=\"edge14\"><title>140494099053008-&gt;140494095746960</title>\n",
       "<path d=\"M351.384,-249.366C335.283,-239.634 316.212,-228.106 299.233,-217.842\" fill=\"none\" stroke=\"black\"/>\n",
       "<polygon fill=\"black\" points=\"300.94,-214.785 290.572,-212.607 297.319,-220.775 300.94,-214.785\" stroke=\"black\"/>\n",
       "</g>\n",
       "<!-- 140494094314512 -->\n",
       "<g class=\"node\" id=\"node14\"><title>140494094314512</title>\n",
       "<polygon fill=\"none\" points=\"109,-83.5 109,-129.5 399,-129.5 399,-83.5 109,-83.5\" stroke=\"black\"/>\n",
       "<text font-family=\"Times,serif\" font-size=\"14.00\" text-anchor=\"middle\" x=\"171.5\" y=\"-102.8\">dropout_2: Dropout</text>\n",
       "<polyline fill=\"none\" points=\"234,-83.5 234,-129.5 \" stroke=\"black\"/>\n",
       "<text font-family=\"Times,serif\" font-size=\"14.00\" text-anchor=\"middle\" x=\"261.5\" y=\"-114.3\">input:</text>\n",
       "<polyline fill=\"none\" points=\"234,-106.5 289,-106.5 \" stroke=\"black\"/>\n",
       "<text font-family=\"Times,serif\" font-size=\"14.00\" text-anchor=\"middle\" x=\"261.5\" y=\"-91.3\">output:</text>\n",
       "<polyline fill=\"none\" points=\"289,-83.5 289,-129.5 \" stroke=\"black\"/>\n",
       "<text font-family=\"Times,serif\" font-size=\"14.00\" text-anchor=\"middle\" x=\"344\" y=\"-114.3\">(None, 112, 256)</text>\n",
       "<polyline fill=\"none\" points=\"289,-106.5 399,-106.5 \" stroke=\"black\"/>\n",
       "<text font-family=\"Times,serif\" font-size=\"14.00\" text-anchor=\"middle\" x=\"344\" y=\"-91.3\">(None, 112, 256)</text>\n",
       "</g>\n",
       "<!-- 140494095746960&#45;&gt;140494094314512 -->\n",
       "<g class=\"edge\" id=\"edge15\"><title>140494095746960-&gt;140494094314512</title>\n",
       "<path d=\"M254,-166.366C254,-158.152 254,-148.658 254,-139.725\" fill=\"none\" stroke=\"black\"/>\n",
       "<polygon fill=\"black\" points=\"257.5,-139.607 254,-129.607 250.5,-139.607 257.5,-139.607\" stroke=\"black\"/>\n",
       "</g>\n",
       "<!-- 140494094998096 -->\n",
       "<g class=\"node\" id=\"node15\"><title>140494094998096</title>\n",
       "<polygon fill=\"none\" points=\"120.5,-0.5 120.5,-46.5 387.5,-46.5 387.5,-0.5 120.5,-0.5\" stroke=\"black\"/>\n",
       "<text font-family=\"Times,serif\" font-size=\"14.00\" text-anchor=\"middle\" x=\"171.5\" y=\"-19.8\">dense_2: Dense</text>\n",
       "<polyline fill=\"none\" points=\"222.5,-0.5 222.5,-46.5 \" stroke=\"black\"/>\n",
       "<text font-family=\"Times,serif\" font-size=\"14.00\" text-anchor=\"middle\" x=\"250\" y=\"-31.3\">input:</text>\n",
       "<polyline fill=\"none\" points=\"222.5,-23.5 277.5,-23.5 \" stroke=\"black\"/>\n",
       "<text font-family=\"Times,serif\" font-size=\"14.00\" text-anchor=\"middle\" x=\"250\" y=\"-8.3\">output:</text>\n",
       "<polyline fill=\"none\" points=\"277.5,-0.5 277.5,-46.5 \" stroke=\"black\"/>\n",
       "<text font-family=\"Times,serif\" font-size=\"14.00\" text-anchor=\"middle\" x=\"332.5\" y=\"-31.3\">(None, 112, 256)</text>\n",
       "<polyline fill=\"none\" points=\"277.5,-23.5 387.5,-23.5 \" stroke=\"black\"/>\n",
       "<text font-family=\"Times,serif\" font-size=\"14.00\" text-anchor=\"middle\" x=\"332.5\" y=\"-8.3\">(None, 112, 45)</text>\n",
       "</g>\n",
       "<!-- 140494094314512&#45;&gt;140494094998096 -->\n",
       "<g class=\"edge\" id=\"edge16\"><title>140494094314512-&gt;140494094998096</title>\n",
       "<path d=\"M254,-83.3664C254,-75.1516 254,-65.6579 254,-56.7252\" fill=\"none\" stroke=\"black\"/>\n",
       "<polygon fill=\"black\" points=\"257.5,-56.6068 254,-46.6068 250.5,-56.6069 257.5,-56.6068\" stroke=\"black\"/>\n",
       "</g>\n",
       "</g>\n",
       "</svg>"
      ],
      "text/plain": [
       "<IPython.core.display.SVG object>"
      ]
     },
     "execution_count": 6,
     "metadata": {},
     "output_type": "execute_result"
    }
   ],
   "source": [
    "SVG(model_to_dot(base_model, show_shapes=True).create(prog='dot', format='svg'))"
   ]
  },
  {
   "cell_type": "markdown",
   "metadata": {},
   "source": [
    "# 载入训练集做验证集"
   ]
  },
  {
   "cell_type": "code",
   "execution_count": 7,
   "metadata": {},
   "outputs": [
    {
     "name": "stderr",
     "output_type": "stream",
     "text": [
      "100%|██████████| 10240/10240 [00:10<00:00, 960.51it/s] \n"
     ]
    }
   ],
   "source": [
    "n1 = 350*256\n",
    "n2 = 390*256\n",
    "\n",
    "X = np.zeros((n2-n1, width, height, channels), dtype=np.uint8)\n",
    "y = np.zeros((n2-n1, n_len), dtype=np.uint8)\n",
    "\n",
    "for i in tqdm(range(n1, n2)):\n",
    "    img = cv2.imread('crop_split/%d.png'%i).transpose(1, 0, 2)\n",
    "    a, b, _ = img.shape\n",
    "    X[i-n1, :a, :b] = img\n",
    "    \n",
    "    label = df[0][i].decode('utf-8')\n",
    "    y[i-n1,:len(label)] = [characters.find(x) for x in label]\n",
    "    y[i-n1,len(label):] = n_class-1\n",
    "\n",
    "X_val = [X, y, np.ones(n2-n1)*rnn_length, labels_len[n1:n2]]"
   ]
  },
  {
   "cell_type": "markdown",
   "metadata": {},
   "source": [
    "# 生成器"
   ]
  },
  {
   "cell_type": "code",
   "execution_count": 8,
   "metadata": {},
   "outputs": [
    {
     "name": "stderr",
     "output_type": "stream",
     "text": [
      "100%|██████████| 89600/89600 [01:54<00:00, 784.04it/s]\n"
     ]
    }
   ],
   "source": [
    "from collections import defaultdict\n",
    "\n",
    "cn_imgs = defaultdict(list)\n",
    "cn_labels = defaultdict(list)\n",
    "ss_imgs = []\n",
    "ss_labels = []\n",
    "\n",
    "for i in tqdm(range(n1)):\n",
    "    ss = df[0][i].decode('utf-8').split(';')\n",
    "    m = len(ss)-1\n",
    "    ss_labels.append(ss[-1])\n",
    "    ss_imgs.append(cv2.imread('crop_split/%d_%d.png'%(i, 0)).transpose(1, 0, 2))\n",
    "    for j in range(m):\n",
    "        cn_labels[ss[j][0]].append(ss[j])\n",
    "        cn_imgs[ss[j][0]].append(cv2.imread('crop_split/%d_%d.png'%(i, m-j)).transpose(1, 0, 2))"
   ]
  },
  {
   "cell_type": "code",
   "execution_count": 9,
   "metadata": {
    "collapsed": true
   },
   "outputs": [],
   "source": [
    "from keras.utils import Sequence\n",
    "\n",
    "class SGen(Sequence):\n",
    "    def __init__(self, batch_size):\n",
    "        self.batch_size = batch_size\n",
    "        self.X_gen = np.zeros((batch_size, width, height, 3), dtype=np.uint8)\n",
    "        self.y_gen = np.zeros((batch_size, n_len), dtype=np.uint8)\n",
    "        self.input_length = np.ones(batch_size)*rnn_length\n",
    "        self.label_length = np.ones(batch_size)*38\n",
    "    \n",
    "    def __len__(self):\n",
    "        return 350*256 // self.batch_size\n",
    "    \n",
    "    def __getitem__(self, idx):\n",
    "        random.seed(time.time()*100000+idx)\n",
    "        self.X_gen[:] = 0\n",
    "        for i in range(self.batch_size):\n",
    "            random_index = random.randint(0, n1-1)\n",
    "            cls = []\n",
    "            ss = ss_labels[random_index]\n",
    "            cs = re.findall(ur'[\\u4e00-\\u9fff]', df[0][random_index].decode('utf-8').split(';')[-1])\n",
    "            random.shuffle(cs)\n",
    "            x = 0\n",
    "            for c in cs:\n",
    "                random_index2 = random.randint(0, len(cn_labels[c])-1)\n",
    "                cls.append(cn_labels[c][random_index2])\n",
    "                img = cn_imgs[c][random_index2]\n",
    "                w, h, _ = img.shape\n",
    "                self.X_gen[i, x:x+w, :h] = img\n",
    "                x += w+2\n",
    "            img = ss_imgs[random_index]\n",
    "            w, h, _ = img.shape\n",
    "            self.X_gen[i, x:x+w, :h] = img\n",
    "            cls.append(ss)\n",
    "\n",
    "            random_str = u';'.join(cls)\n",
    "            self.y_gen[i,:len(random_str)] = [characters.find(x) for x in random_str]\n",
    "            self.y_gen[i,len(random_str):] = n_class-1\n",
    "            self.label_length[i] = len(random_str)\n",
    "        \n",
    "        return [self.X_gen, self.y_gen, self.input_length, self.label_length], np.ones(self.batch_size)"
   ]
  },
  {
   "cell_type": "markdown",
   "metadata": {},
   "source": [
    "### 可视化生成器"
   ]
  },
  {
   "cell_type": "code",
   "execution_count": 10,
   "metadata": {},
   "outputs": [
    {
     "name": "stdout",
     "output_type": "stream",
     "text": [
      "110.0\n",
      "40.0\n",
      "天=1143;烧=93198;(47070-天/93263)*(烧*93206)\n"
     ]
    },
    {
     "data": {
      "image/png": "[encoded data removed]",
      "text/plain": [
       "<IPython.core.display.Image object>"
      ]
     },
     "metadata": {},
     "output_type": "display_data"
    }
   ],
   "source": [
    "gen = SGen(1)\n",
    "(X_vis, y_vis, input_length_vis, label_length_vis), _ = gen[0]\n",
    "print(input_length_vis[0])\n",
    "print(label_length_vis[0])\n",
    "print(decode(y_vis[0]))\n",
    "disp2(X_vis[0].transpose((1, 0, 2)))"
   ]
  },
  {
   "cell_type": "markdown",
   "metadata": {},
   "source": [
    "# 训练"
   ]
  },
  {
   "cell_type": "code",
   "execution_count": 18,
   "metadata": {
    "collapsed": true
   },
   "outputs": [],
   "source": [
    "def evaluate():\n",
    "    global out\n",
    "    y_pred = base_model2.predict(X, batch_size=256, verbose=1)\n",
    "    out = K.get_value(K.ctc_decode(y_pred[:,2:], input_length=np.ones(y_pred.shape[0])*rnn_length)[0][0])[:, :n_len]\n",
    "    out[out == -1] = n_class-1\n",
    "    score = (out == y[:,:out.shape[-1]]).all(axis=-1).mean()\n",
    "    base_model.save('model_%s_%.6f.h5' % (DESCRIPTION, score))\n",
    "    return score\n",
    "\n",
    "def train(lr=1e-3, epochs=10, batch_size=128, callbacks=None):\n",
    "    opt = Adam(lr)\n",
    "    model.compile(loss={'ctc': lambda y_true, y_pred: y_pred}, optimizer=opt)\n",
    "    model.fit_generator(SGen(batch_size), steps_per_epoch=350*256/batch_size, \n",
    "                        workers=6, use_multiprocessing=True,\n",
    "                        validation_data=(X_val, np.ones(n2-n1)), epochs=epochs, callbacks=callbacks)\n",
    "    print(evaluate())"
   ]
  },
  {
   "cell_type": "markdown",
   "metadata": {},
   "source": [
    "# 采用每次训练最好的模型\n",
    "\n",
    "http://keras-cn.readthedocs.io/en/latest/other/callbacks/#modelcheckpoint"
   ]
  },
  {
   "cell_type": "code",
   "execution_count": 12,
   "metadata": {
    "collapsed": true
   },
   "outputs": [],
   "source": [
    "from keras.callbacks import *\n",
    "\n",
    "mc = ModelCheckpoint(MODEL_NAME, save_best_only=True)\n",
    "cl = CSVLogger('model_%s.csv' % DESCRIPTION, append=True)"
   ]
  },
  {
   "cell_type": "code",
   "execution_count": null,
   "metadata": {
    "scrolled": false
   },
   "outputs": [],
   "source": [
    "train(epochs=20, callbacks=[mc, cl])"
   ]
  },
  {
   "cell_type": "code",
   "execution_count": null,
   "metadata": {},
   "outputs": [],
   "source": [
    "model.load_weights(MODEL_NAME)\n",
    "evaluate()"
   ]
  },
  {
   "cell_type": "code",
   "execution_count": null,
   "metadata": {},
   "outputs": [],
   "source": [
    "train(1e-4, callbacks=[mc, cl])"
   ]
  },
  {
   "cell_type": "code",
   "execution_count": null,
   "metadata": {},
   "outputs": [],
   "source": [
    "model.load_weights(MODEL_NAME)\n",
    "evaluate()"
   ]
  },
  {
   "cell_type": "code",
   "execution_count": null,
   "metadata": {
    "scrolled": false
   },
   "outputs": [],
   "source": [
    "train(1e-5, callbacks=[mc, cl])"
   ]
  },
  {
   "cell_type": "code",
   "execution_count": null,
   "metadata": {},
   "outputs": [],
   "source": [
    "model.load_weights(MODEL_NAME)\n",
    "evaluate()"
   ]
  },
  {
   "cell_type": "code",
   "execution_count": null,
   "metadata": {
    "collapsed": true
   },
   "outputs": [],
   "source": [
    "train(1e-4, callbacks=[mc, cl])"
   ]
  },
  {
   "cell_type": "code",
   "execution_count": null,
   "metadata": {
    "collapsed": true
   },
   "outputs": [],
   "source": [
    "model.load_weights(MODEL_NAME)\n",
    "evaluate()"
   ]
  },
  {
   "cell_type": "code",
   "execution_count": null,
   "metadata": {
    "collapsed": true
   },
   "outputs": [],
   "source": [
    "train(1e-5, callbacks=[mc, cl])"
   ]
  },
  {
   "cell_type": "code",
   "execution_count": null,
   "metadata": {
    "collapsed": true
   },
   "outputs": [],
   "source": [
    "model.load_weights(MODEL_NAME)\n",
    "evaluate()"
   ]
  },
  {
   "cell_type": "code",
   "execution_count": 25,
   "metadata": {
    "collapsed": true
   },
   "outputs": [],
   "source": [
    "base_model.save('model.h5')"
   ]
  },
  {
   "cell_type": "code",
   "execution_count": null,
   "metadata": {
    "collapsed": true
   },
   "outputs": [],
   "source": []
  }
 ],
 "metadata": {
  "kernelspec": {
   "display_name": "Python 3",
   "language": "python",
   "name": "python3"
  },
  "language_info": {
   "codemirror_mode": {
    "name": "ipython",
    "version": 3
   },
   "file_extension": ".py",
   "mimetype": "text/x-python",
   "name": "python",
   "nbconvert_exporter": "python",
   "pygments_lexer": "ipython3",
   "version": "3.6.4"
  }
 },
 "nbformat": 4,
 "nbformat_minor": 2
}
