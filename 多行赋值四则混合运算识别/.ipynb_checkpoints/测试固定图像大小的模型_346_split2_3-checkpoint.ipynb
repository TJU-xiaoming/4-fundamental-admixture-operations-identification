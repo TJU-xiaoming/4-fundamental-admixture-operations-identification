{
 "cells": [
  {
   "cell_type": "code",
   "execution_count": 1,
   "metadata": {},
   "outputs": [
    {
     "name": "stdout",
     "output_type": "stream",
     "text": [
      "GPU1 Memory: 11172MB\n"
     ]
    }
   ],
   "source": [
    "from pynvml import *\n",
    "\n",
    "nvmlInit()\n",
    "vram = nvmlDeviceGetMemoryInfo(nvmlDeviceGetHandleByIndex(1)).free/1024.**2\n",
    "print('GPU1 Memory: %dMB' % vram)\n",
    "if vram < 8000:\n",
    "    raise Exception('GPU Memory too low')\n",
    "nvmlShutdown()"
   ]
  },
  {
   "cell_type": "code",
   "execution_count": 2,
   "metadata": {},
   "outputs": [
    {
     "name": "stderr",
     "output_type": "stream",
     "text": [
      "Using TensorFlow backend.\n"
     ]
    }
   ],
   "source": [
    "import os\n",
    "import cv2\n",
    "import h5py\n",
    "import numpy as np\n",
    "import matplotlib.pyplot as plt\n",
    "from IPython.display import *\n",
    "from collections import Counter\n",
    "import seaborn as sns\n",
    "from tqdm import tqdm\n",
    "import pandas as pd\n",
    "import re\n",
    "import time\n",
    "import random\n",
    "\n",
    "from keras.layers import *\n",
    "from keras.models import *\n",
    "from keras.optimizers import *\n",
    "from keras.regularizers import l2\n",
    "from keras.utils.vis_utils import model_to_dot\n",
    "import keras.backend as K\n",
    "from make_parallel import make_parallel\n",
    "\n",
    "%matplotlib inline\n",
    "%config InlineBackend.figure_format = 'retina'\n",
    "IMAGE_DIR = 'image_contest_level_2'\n",
    "\n",
    "DESCRIPTION = '346_split2_3'\n",
    "MODEL_NAME = 'model_%s_best.h5' % DESCRIPTION"
   ]
  },
  {
   "cell_type": "markdown",
   "metadata": {},
   "source": [
    "# 载入基本数据"
   ]
  },
  {
   "cell_type": "code",
   "execution_count": 3,
   "metadata": {
    "collapsed": true
   },
   "outputs": [],
   "source": [
    "df = pd.read_csv('image_contest_level_2/labels.txt', sep=' ', header=None)\n",
    "characters = u'0123456789()+-*/=君不见黄河之水天上来奔流到海复回烟锁池塘柳深圳铁板烧; '\n",
    "\n",
    "labels_len = np.array(map(lambda x:len(x.decode('utf-8')), df[0]))\n",
    "n_len = 51\n",
    "n, width, height, n_class, channels = 100000, 900, 81, len(characters), 3"
   ]
  },
  {
   "cell_type": "code",
   "execution_count": 4,
   "metadata": {
    "collapsed": true
   },
   "outputs": [],
   "source": [
    "def decode(out):\n",
    "    return ''.join([characters[x] for x in out if x < n_class-1 and x > -1])\n",
    "\n",
    "def disp2(img):\n",
    "    cv2.imwrite('a.png', img)\n",
    "    return display(Image('a.png'))\n",
    "\n",
    "def disp(img, txt=None, first=False):\n",
    "    global index\n",
    "    if first:\n",
    "        index = 1\n",
    "        plt.figure(figsize=(16, 9))\n",
    "    else:\n",
    "        index += 1\n",
    "    plt.subplot(4, 1, index)\n",
    "    if len(img.shape) == 2:\n",
    "        plt.imshow(img, cmap='gray')\n",
    "    else:\n",
    "        plt.imshow(img[:,:,::-1])\n",
    "    if txt:\n",
    "        plt.title(txt)"
   ]
  },
  {
   "cell_type": "markdown",
   "metadata": {},
   "source": [
    "# 构建模型"
   ]
  },
  {
   "cell_type": "code",
   "execution_count": 5,
   "metadata": {},
   "outputs": [
    {
     "name": "stdout",
     "output_type": "stream",
     "text": [
      "[None, 112, 10, 128] 112 1280\n"
     ]
    }
   ],
   "source": [
    "def ctc_lambda_func(args):\n",
    "    y_pred, labels, input_length, label_length = args\n",
    "    y_pred = y_pred[:, 2:, :]\n",
    "    return K.ctc_batch_cost(labels, y_pred, input_length, label_length)\n",
    "\n",
    "rnn_size = 128\n",
    "l2_rate = 1e-5\n",
    "\n",
    "input_tensor = Input((width, height, 3))\n",
    "x = input_tensor\n",
    "for i, n_cnn in enumerate([3, 4, 6]):\n",
    "    for j in range(n_cnn):\n",
    "        x = Conv2D(32*2**i, (3, 3), padding='same', kernel_initializer='he_uniform', \n",
    "                   kernel_regularizer=l2(l2_rate))(x)\n",
    "        x = BatchNormalization(gamma_regularizer=l2(l2_rate), beta_regularizer=l2(l2_rate))(x)\n",
    "        x = Activation('relu')(x)\n",
    "    x = MaxPooling2D((2, 2))(x)\n",
    "\n",
    "# x = AveragePooling2D((1, 2))(x)\n",
    "cnn_model = Model(input_tensor, x, name='cnn')\n",
    "\n",
    "input_tensor = Input((width, height, 3))\n",
    "x = cnn_model(input_tensor)\n",
    "\n",
    "conv_shape = x.get_shape().as_list()\n",
    "rnn_length = conv_shape[1]\n",
    "rnn_dimen = conv_shape[3]*conv_shape[2]\n",
    "\n",
    "print conv_shape, rnn_length, rnn_dimen\n",
    "\n",
    "x = Reshape(target_shape=(rnn_length, rnn_dimen))(x)\n",
    "rnn_length -= 2\n",
    "rnn_imp = 0\n",
    "\n",
    "x = Dense(rnn_size, kernel_initializer='he_uniform', kernel_regularizer=l2(l2_rate), bias_regularizer=l2(l2_rate))(x)\n",
    "x = BatchNormalization(gamma_regularizer=l2(l2_rate), beta_regularizer=l2(l2_rate))(x)\n",
    "x = Activation('relu')(x)\n",
    "# x = Dropout(0.2)(x)\n",
    "\n",
    "gru_1 = GRU(rnn_size, implementation=rnn_imp, return_sequences=True, name='gru1')(x)\n",
    "gru_1b = GRU(rnn_size, implementation=rnn_imp, return_sequences=True, go_backwards=True, name='gru1_b')(x)\n",
    "gru1_merged = add([gru_1, gru_1b])\n",
    "\n",
    "gru_2 = GRU(rnn_size, implementation=rnn_imp, return_sequences=True, name='gru2')(gru1_merged)\n",
    "gru_2b = GRU(rnn_size, implementation=rnn_imp, return_sequences=True, go_backwards=True, name='gru2_b')(gru1_merged)\n",
    "x = concatenate([gru_2, gru_2b])\n",
    "\n",
    "# x = Dropout(0.2)(x) 因为已经使用数据扩充，扩充后的数据量应该可以防止过拟合了\n",
    "x = Dense(n_class, activation='softmax', kernel_regularizer=l2(l2_rate), bias_regularizer=l2(l2_rate))(x)\n",
    "rnn_out = x\n",
    "base_model = Model(input_tensor, x)\n",
    "\n",
    "base_model2 = make_parallel(base_model, 4)\n",
    "\n",
    "labels = Input(name='the_labels', shape=[n_len], dtype='float32')\n",
    "input_length = Input(name='input_length', shape=(1,), dtype='int64')\n",
    "label_length = Input(name='label_length', shape=(1,), dtype='int64')\n",
    "loss_out = Lambda(ctc_lambda_func, name='ctc')([base_model2.output, labels, input_length, label_length])\n",
    "\n",
    "model = Model(inputs=(input_tensor, labels, input_length, label_length), outputs=loss_out)\n",
    "model.compile(loss={'ctc': lambda y_true, y_pred: y_pred}, optimizer='adam')\n",
    "model.save('test.h5')"
   ]
  },
  {
   "cell_type": "code",
   "execution_count": 6,
   "metadata": {},
   "outputs": [
    {
     "name": "stdout",
     "output_type": "stream",
     "text": [
      "____________________________________________________________________________________________________\n",
      "Layer (type)                     Output Shape          Param #     Connected to                     \n",
      "====================================================================================================\n",
      "input_2 (InputLayer)             (None, 900, 81, 3)    0                                            \n",
      "____________________________________________________________________________________________________\n",
      "cnn (Model)                      (None, 112, 10, 128)  964928      input_2[0][0]                    \n",
      "____________________________________________________________________________________________________\n",
      "reshape_1 (Reshape)              (None, 112, 1280)     0           cnn[1][0]                        \n",
      "____________________________________________________________________________________________________\n",
      "dense_1 (Dense)                  (None, 112, 128)      163968      reshape_1[0][0]                  \n",
      "____________________________________________________________________________________________________\n",
      "batch_normalization_14 (BatchNor (None, 112, 128)      512         dense_1[0][0]                    \n",
      "____________________________________________________________________________________________________\n",
      "activation_14 (Activation)       (None, 112, 128)      0           batch_normalization_14[0][0]     \n",
      "____________________________________________________________________________________________________\n",
      "gru1 (GRU)                       (None, 112, 128)      98688       activation_14[0][0]              \n",
      "____________________________________________________________________________________________________\n",
      "gru1_b (GRU)                     (None, 112, 128)      98688       activation_14[0][0]              \n",
      "____________________________________________________________________________________________________\n",
      "add_1 (Add)                      (None, 112, 128)      0           gru1[0][0]                       \n",
      "                                                                   gru1_b[0][0]                     \n",
      "____________________________________________________________________________________________________\n",
      "gru2 (GRU)                       (None, 112, 128)      98688       add_1[0][0]                      \n",
      "____________________________________________________________________________________________________\n",
      "gru2_b (GRU)                     (None, 112, 128)      98688       add_1[0][0]                      \n",
      "____________________________________________________________________________________________________\n",
      "concatenate_1 (Concatenate)      (None, 112, 256)      0           gru2[0][0]                       \n",
      "                                                                   gru2_b[0][0]                     \n",
      "____________________________________________________________________________________________________\n",
      "dense_2 (Dense)                  (None, 112, 45)       11565       concatenate_1[0][0]              \n",
      "====================================================================================================\n",
      "Total params: 1,535,725\n",
      "Trainable params: 1,533,229\n",
      "Non-trainable params: 2,496\n",
      "____________________________________________________________________________________________________\n"
     ]
    }
   ],
   "source": [
    "base_model.summary()"
   ]
  },
  {
   "cell_type": "code",
   "execution_count": 7,
   "metadata": {
    "scrolled": false
   },
   "outputs": [
    {
     "data": {
      "image/svg+xml": [
       "<svg height=\"885pt\" viewBox=\"0.00 0.00 524.00 885.00\" width=\"524pt\" xmlns=\"http://www.w3.org/2000/svg\" xmlns:xlink=\"http://www.w3.org/1999/xlink\">\n",
       "<g class=\"graph\" id=\"graph0\" transform=\"scale(1 1) rotate(0) translate(4 881)\">\n",
       "<title>G</title>\n",
       "<polygon fill=\"white\" points=\"-4,4 -4,-881 520,-881 520,4 -4,4\" stroke=\"none\"/>\n",
       "<!-- 140317144009872 -->\n",
       "<g class=\"node\" id=\"node1\"><title>140317144009872</title>\n",
       "<polygon fill=\"none\" points=\"105,-830.5 105,-876.5 403,-876.5 403,-830.5 105,-830.5\" stroke=\"black\"/>\n",
       "<text font-family=\"Times,serif\" font-size=\"14.00\" text-anchor=\"middle\" x=\"167.5\" y=\"-849.8\">input_2: InputLayer</text>\n",
       "<polyline fill=\"none\" points=\"230,-830.5 230,-876.5 \" stroke=\"black\"/>\n",
       "<text font-family=\"Times,serif\" font-size=\"14.00\" text-anchor=\"middle\" x=\"257.5\" y=\"-861.3\">input:</text>\n",
       "<polyline fill=\"none\" points=\"230,-853.5 285,-853.5 \" stroke=\"black\"/>\n",
       "<text font-family=\"Times,serif\" font-size=\"14.00\" text-anchor=\"middle\" x=\"257.5\" y=\"-838.3\">output:</text>\n",
       "<polyline fill=\"none\" points=\"285,-830.5 285,-876.5 \" stroke=\"black\"/>\n",
       "<text font-family=\"Times,serif\" font-size=\"14.00\" text-anchor=\"middle\" x=\"344\" y=\"-861.3\">(None, 900, 81, 3)</text>\n",
       "<polyline fill=\"none\" points=\"285,-853.5 403,-853.5 \" stroke=\"black\"/>\n",
       "<text font-family=\"Times,serif\" font-size=\"14.00\" text-anchor=\"middle\" x=\"344\" y=\"-838.3\">(None, 900, 81, 3)</text>\n",
       "</g>\n",
       "<!-- 140317124338768 -->\n",
       "<g class=\"node\" id=\"node2\"><title>140317124338768</title>\n",
       "<polygon fill=\"none\" points=\"121,-747.5 121,-793.5 387,-793.5 387,-747.5 121,-747.5\" stroke=\"black\"/>\n",
       "<text font-family=\"Times,serif\" font-size=\"14.00\" text-anchor=\"middle\" x=\"161\" y=\"-766.8\">cnn: Model</text>\n",
       "<polyline fill=\"none\" points=\"201,-747.5 201,-793.5 \" stroke=\"black\"/>\n",
       "<text font-family=\"Times,serif\" font-size=\"14.00\" text-anchor=\"middle\" x=\"228.5\" y=\"-778.3\">input:</text>\n",
       "<polyline fill=\"none\" points=\"201,-770.5 256,-770.5 \" stroke=\"black\"/>\n",
       "<text font-family=\"Times,serif\" font-size=\"14.00\" text-anchor=\"middle\" x=\"228.5\" y=\"-755.3\">output:</text>\n",
       "<polyline fill=\"none\" points=\"256,-747.5 256,-793.5 \" stroke=\"black\"/>\n",
       "<text font-family=\"Times,serif\" font-size=\"14.00\" text-anchor=\"middle\" x=\"321.5\" y=\"-778.3\">(None, 900, 81, 3)</text>\n",
       "<polyline fill=\"none\" points=\"256,-770.5 387,-770.5 \" stroke=\"black\"/>\n",
       "<text font-family=\"Times,serif\" font-size=\"14.00\" text-anchor=\"middle\" x=\"321.5\" y=\"-755.3\">(None, 112, 10, 128)</text>\n",
       "</g>\n",
       "<!-- 140317144009872&#45;&gt;140317124338768 -->\n",
       "<g class=\"edge\" id=\"edge1\"><title>140317144009872-&gt;140317124338768</title>\n",
       "<path d=\"M254,-830.366C254,-822.152 254,-812.658 254,-803.725\" fill=\"none\" stroke=\"black\"/>\n",
       "<polygon fill=\"black\" points=\"257.5,-803.607 254,-793.607 250.5,-803.607 257.5,-803.607\" stroke=\"black\"/>\n",
       "</g>\n",
       "<!-- 140317124221136 -->\n",
       "<g class=\"node\" id=\"node3\"><title>140317124221136</title>\n",
       "<polygon fill=\"none\" points=\"98.5,-664.5 98.5,-710.5 409.5,-710.5 409.5,-664.5 98.5,-664.5\" stroke=\"black\"/>\n",
       "<text font-family=\"Times,serif\" font-size=\"14.00\" text-anchor=\"middle\" x=\"161\" y=\"-683.8\">reshape_1: Reshape</text>\n",
       "<polyline fill=\"none\" points=\"223.5,-664.5 223.5,-710.5 \" stroke=\"black\"/>\n",
       "<text font-family=\"Times,serif\" font-size=\"14.00\" text-anchor=\"middle\" x=\"251\" y=\"-695.3\">input:</text>\n",
       "<polyline fill=\"none\" points=\"223.5,-687.5 278.5,-687.5 \" stroke=\"black\"/>\n",
       "<text font-family=\"Times,serif\" font-size=\"14.00\" text-anchor=\"middle\" x=\"251\" y=\"-672.3\">output:</text>\n",
       "<polyline fill=\"none\" points=\"278.5,-664.5 278.5,-710.5 \" stroke=\"black\"/>\n",
       "<text font-family=\"Times,serif\" font-size=\"14.00\" text-anchor=\"middle\" x=\"344\" y=\"-695.3\">(None, 112, 10, 128)</text>\n",
       "<polyline fill=\"none\" points=\"278.5,-687.5 409.5,-687.5 \" stroke=\"black\"/>\n",
       "<text font-family=\"Times,serif\" font-size=\"14.00\" text-anchor=\"middle\" x=\"344\" y=\"-672.3\">(None, 112, 1280)</text>\n",
       "</g>\n",
       "<!-- 140317124338768&#45;&gt;140317124221136 -->\n",
       "<g class=\"edge\" id=\"edge2\"><title>140317124338768-&gt;140317124221136</title>\n",
       "<path d=\"M254,-747.366C254,-739.152 254,-729.658 254,-720.725\" fill=\"none\" stroke=\"black\"/>\n",
       "<polygon fill=\"black\" points=\"257.5,-720.607 254,-710.607 250.5,-720.607 257.5,-720.607\" stroke=\"black\"/>\n",
       "</g>\n",
       "<!-- 140317143074704 -->\n",
       "<g class=\"node\" id=\"node4\"><title>140317143074704</title>\n",
       "<polygon fill=\"none\" points=\"117,-581.5 117,-627.5 391,-627.5 391,-581.5 117,-581.5\" stroke=\"black\"/>\n",
       "<text font-family=\"Times,serif\" font-size=\"14.00\" text-anchor=\"middle\" x=\"168\" y=\"-600.8\">dense_1: Dense</text>\n",
       "<polyline fill=\"none\" points=\"219,-581.5 219,-627.5 \" stroke=\"black\"/>\n",
       "<text font-family=\"Times,serif\" font-size=\"14.00\" text-anchor=\"middle\" x=\"246.5\" y=\"-612.3\">input:</text>\n",
       "<polyline fill=\"none\" points=\"219,-604.5 274,-604.5 \" stroke=\"black\"/>\n",
       "<text font-family=\"Times,serif\" font-size=\"14.00\" text-anchor=\"middle\" x=\"246.5\" y=\"-589.3\">output:</text>\n",
       "<polyline fill=\"none\" points=\"274,-581.5 274,-627.5 \" stroke=\"black\"/>\n",
       "<text font-family=\"Times,serif\" font-size=\"14.00\" text-anchor=\"middle\" x=\"332.5\" y=\"-612.3\">(None, 112, 1280)</text>\n",
       "<polyline fill=\"none\" points=\"274,-604.5 391,-604.5 \" stroke=\"black\"/>\n",
       "<text font-family=\"Times,serif\" font-size=\"14.00\" text-anchor=\"middle\" x=\"332.5\" y=\"-589.3\">(None, 112, 128)</text>\n",
       "</g>\n",
       "<!-- 140317124221136&#45;&gt;140317143074704 -->\n",
       "<g class=\"edge\" id=\"edge3\"><title>140317124221136-&gt;140317143074704</title>\n",
       "<path d=\"M254,-664.366C254,-656.152 254,-646.658 254,-637.725\" fill=\"none\" stroke=\"black\"/>\n",
       "<polygon fill=\"black\" points=\"257.5,-637.607 254,-627.607 250.5,-637.607 257.5,-637.607\" stroke=\"black\"/>\n",
       "</g>\n",
       "<!-- 140317137970576 -->\n",
       "<g class=\"node\" id=\"node5\"><title>140317137970576</title>\n",
       "<polygon fill=\"none\" points=\"38.5,-498.5 38.5,-544.5 469.5,-544.5 469.5,-498.5 38.5,-498.5\" stroke=\"black\"/>\n",
       "<text font-family=\"Times,serif\" font-size=\"14.00\" text-anchor=\"middle\" x=\"171.5\" y=\"-517.8\">batch_normalization_14: BatchNormalization</text>\n",
       "<polyline fill=\"none\" points=\"304.5,-498.5 304.5,-544.5 \" stroke=\"black\"/>\n",
       "<text font-family=\"Times,serif\" font-size=\"14.00\" text-anchor=\"middle\" x=\"332\" y=\"-529.3\">input:</text>\n",
       "<polyline fill=\"none\" points=\"304.5,-521.5 359.5,-521.5 \" stroke=\"black\"/>\n",
       "<text font-family=\"Times,serif\" font-size=\"14.00\" text-anchor=\"middle\" x=\"332\" y=\"-506.3\">output:</text>\n",
       "<polyline fill=\"none\" points=\"359.5,-498.5 359.5,-544.5 \" stroke=\"black\"/>\n",
       "<text font-family=\"Times,serif\" font-size=\"14.00\" text-anchor=\"middle\" x=\"414.5\" y=\"-529.3\">(None, 112, 128)</text>\n",
       "<polyline fill=\"none\" points=\"359.5,-521.5 469.5,-521.5 \" stroke=\"black\"/>\n",
       "<text font-family=\"Times,serif\" font-size=\"14.00\" text-anchor=\"middle\" x=\"414.5\" y=\"-506.3\">(None, 112, 128)</text>\n",
       "</g>\n",
       "<!-- 140317143074704&#45;&gt;140317137970576 -->\n",
       "<g class=\"edge\" id=\"edge4\"><title>140317143074704-&gt;140317137970576</title>\n",
       "<path d=\"M254,-581.366C254,-573.152 254,-563.658 254,-554.725\" fill=\"none\" stroke=\"black\"/>\n",
       "<polygon fill=\"black\" points=\"257.5,-554.607 254,-544.607 250.5,-554.607 257.5,-554.607\" stroke=\"black\"/>\n",
       "</g>\n",
       "<!-- 140317138867152 -->\n",
       "<g class=\"node\" id=\"node6\"><title>140317138867152</title>\n",
       "<polygon fill=\"none\" points=\"94,-415.5 94,-461.5 414,-461.5 414,-415.5 94,-415.5\" stroke=\"black\"/>\n",
       "<text font-family=\"Times,serif\" font-size=\"14.00\" text-anchor=\"middle\" x=\"171.5\" y=\"-434.8\">activation_14: Activation</text>\n",
       "<polyline fill=\"none\" points=\"249,-415.5 249,-461.5 \" stroke=\"black\"/>\n",
       "<text font-family=\"Times,serif\" font-size=\"14.00\" text-anchor=\"middle\" x=\"276.5\" y=\"-446.3\">input:</text>\n",
       "<polyline fill=\"none\" points=\"249,-438.5 304,-438.5 \" stroke=\"black\"/>\n",
       "<text font-family=\"Times,serif\" font-size=\"14.00\" text-anchor=\"middle\" x=\"276.5\" y=\"-423.3\">output:</text>\n",
       "<polyline fill=\"none\" points=\"304,-415.5 304,-461.5 \" stroke=\"black\"/>\n",
       "<text font-family=\"Times,serif\" font-size=\"14.00\" text-anchor=\"middle\" x=\"359\" y=\"-446.3\">(None, 112, 128)</text>\n",
       "<polyline fill=\"none\" points=\"304,-438.5 414,-438.5 \" stroke=\"black\"/>\n",
       "<text font-family=\"Times,serif\" font-size=\"14.00\" text-anchor=\"middle\" x=\"359\" y=\"-423.3\">(None, 112, 128)</text>\n",
       "</g>\n",
       "<!-- 140317137970576&#45;&gt;140317138867152 -->\n",
       "<g class=\"edge\" id=\"edge5\"><title>140317137970576-&gt;140317138867152</title>\n",
       "<path d=\"M254,-498.366C254,-490.152 254,-480.658 254,-471.725\" fill=\"none\" stroke=\"black\"/>\n",
       "<polygon fill=\"black\" points=\"257.5,-471.607 254,-461.607 250.5,-471.607 257.5,-471.607\" stroke=\"black\"/>\n",
       "</g>\n",
       "<!-- 140317137718736 -->\n",
       "<g class=\"node\" id=\"node7\"><title>140317137718736</title>\n",
       "<polygon fill=\"none\" points=\"0,-332.5 0,-378.5 242,-378.5 242,-332.5 0,-332.5\" stroke=\"black\"/>\n",
       "<text font-family=\"Times,serif\" font-size=\"14.00\" text-anchor=\"middle\" x=\"38.5\" y=\"-351.8\">gru1: GRU</text>\n",
       "<polyline fill=\"none\" points=\"77,-332.5 77,-378.5 \" stroke=\"black\"/>\n",
       "<text font-family=\"Times,serif\" font-size=\"14.00\" text-anchor=\"middle\" x=\"104.5\" y=\"-363.3\">input:</text>\n",
       "<polyline fill=\"none\" points=\"77,-355.5 132,-355.5 \" stroke=\"black\"/>\n",
       "<text font-family=\"Times,serif\" font-size=\"14.00\" text-anchor=\"middle\" x=\"104.5\" y=\"-340.3\">output:</text>\n",
       "<polyline fill=\"none\" points=\"132,-332.5 132,-378.5 \" stroke=\"black\"/>\n",
       "<text font-family=\"Times,serif\" font-size=\"14.00\" text-anchor=\"middle\" x=\"187\" y=\"-363.3\">(None, 112, 128)</text>\n",
       "<polyline fill=\"none\" points=\"132,-355.5 242,-355.5 \" stroke=\"black\"/>\n",
       "<text font-family=\"Times,serif\" font-size=\"14.00\" text-anchor=\"middle\" x=\"187\" y=\"-340.3\">(None, 112, 128)</text>\n",
       "</g>\n",
       "<!-- 140317138867152&#45;&gt;140317137718736 -->\n",
       "<g class=\"edge\" id=\"edge6\"><title>140317138867152-&gt;140317137718736</title>\n",
       "<path d=\"M217.657,-415.366C201.676,-405.634 182.748,-394.106 165.896,-383.842\" fill=\"none\" stroke=\"black\"/>\n",
       "<polygon fill=\"black\" points=\"167.66,-380.819 157.299,-378.607 164.019,-386.798 167.66,-380.819\" stroke=\"black\"/>\n",
       "</g>\n",
       "<!-- 140317137718224 -->\n",
       "<g class=\"node\" id=\"node8\"><title>140317137718224</title>\n",
       "<polygon fill=\"none\" points=\"260,-332.5 260,-378.5 516,-378.5 516,-332.5 260,-332.5\" stroke=\"black\"/>\n",
       "<text font-family=\"Times,serif\" font-size=\"14.00\" text-anchor=\"middle\" x=\"305.5\" y=\"-351.8\">gru1_b: GRU</text>\n",
       "<polyline fill=\"none\" points=\"351,-332.5 351,-378.5 \" stroke=\"black\"/>\n",
       "<text font-family=\"Times,serif\" font-size=\"14.00\" text-anchor=\"middle\" x=\"378.5\" y=\"-363.3\">input:</text>\n",
       "<polyline fill=\"none\" points=\"351,-355.5 406,-355.5 \" stroke=\"black\"/>\n",
       "<text font-family=\"Times,serif\" font-size=\"14.00\" text-anchor=\"middle\" x=\"378.5\" y=\"-340.3\">output:</text>\n",
       "<polyline fill=\"none\" points=\"406,-332.5 406,-378.5 \" stroke=\"black\"/>\n",
       "<text font-family=\"Times,serif\" font-size=\"14.00\" text-anchor=\"middle\" x=\"461\" y=\"-363.3\">(None, 112, 128)</text>\n",
       "<polyline fill=\"none\" points=\"406,-355.5 516,-355.5 \" stroke=\"black\"/>\n",
       "<text font-family=\"Times,serif\" font-size=\"14.00\" text-anchor=\"middle\" x=\"461\" y=\"-340.3\">(None, 112, 128)</text>\n",
       "</g>\n",
       "<!-- 140317138867152&#45;&gt;140317137718224 -->\n",
       "<g class=\"edge\" id=\"edge7\"><title>140317138867152-&gt;140317137718224</title>\n",
       "<path d=\"M290.616,-415.366C306.717,-405.634 325.788,-394.106 342.767,-383.842\" fill=\"none\" stroke=\"black\"/>\n",
       "<polygon fill=\"black\" points=\"344.681,-386.775 351.428,-378.607 341.06,-380.785 344.681,-386.775\" stroke=\"black\"/>\n",
       "</g>\n",
       "<!-- 140317136785744 -->\n",
       "<g class=\"node\" id=\"node9\"><title>140317136785744</title>\n",
       "<polygon fill=\"none\" points=\"76,-249.5 76,-295.5 432,-295.5 432,-249.5 76,-249.5\" stroke=\"black\"/>\n",
       "<text font-family=\"Times,serif\" font-size=\"14.00\" text-anchor=\"middle\" x=\"116\" y=\"-268.8\">add_1: Add</text>\n",
       "<polyline fill=\"none\" points=\"156,-249.5 156,-295.5 \" stroke=\"black\"/>\n",
       "<text font-family=\"Times,serif\" font-size=\"14.00\" text-anchor=\"middle\" x=\"183.5\" y=\"-280.3\">input:</text>\n",
       "<polyline fill=\"none\" points=\"156,-272.5 211,-272.5 \" stroke=\"black\"/>\n",
       "<text font-family=\"Times,serif\" font-size=\"14.00\" text-anchor=\"middle\" x=\"183.5\" y=\"-257.3\">output:</text>\n",
       "<polyline fill=\"none\" points=\"211,-249.5 211,-295.5 \" stroke=\"black\"/>\n",
       "<text font-family=\"Times,serif\" font-size=\"14.00\" text-anchor=\"middle\" x=\"321.5\" y=\"-280.3\">[(None, 112, 128), (None, 112, 128)]</text>\n",
       "<polyline fill=\"none\" points=\"211,-272.5 432,-272.5 \" stroke=\"black\"/>\n",
       "<text font-family=\"Times,serif\" font-size=\"14.00\" text-anchor=\"middle\" x=\"321.5\" y=\"-257.3\">(None, 112, 128)</text>\n",
       "</g>\n",
       "<!-- 140317137718736&#45;&gt;140317136785744 -->\n",
       "<g class=\"edge\" id=\"edge8\"><title>140317137718736-&gt;140317136785744</title>\n",
       "<path d=\"M157.343,-332.366C173.324,-322.634 192.252,-311.106 209.104,-300.842\" fill=\"none\" stroke=\"black\"/>\n",
       "<polygon fill=\"black\" points=\"210.981,-303.798 217.701,-295.607 207.34,-297.819 210.981,-303.798\" stroke=\"black\"/>\n",
       "</g>\n",
       "<!-- 140317137718224&#45;&gt;140317136785744 -->\n",
       "<g class=\"edge\" id=\"edge9\"><title>140317137718224-&gt;140317136785744</title>\n",
       "<path d=\"M351.384,-332.366C335.283,-322.634 316.212,-311.106 299.233,-300.842\" fill=\"none\" stroke=\"black\"/>\n",
       "<polygon fill=\"black\" points=\"300.94,-297.785 290.572,-295.607 297.319,-303.775 300.94,-297.785\" stroke=\"black\"/>\n",
       "</g>\n",
       "<!-- 140317133771920 -->\n",
       "<g class=\"node\" id=\"node10\"><title>140317133771920</title>\n",
       "<polygon fill=\"none\" points=\"0,-166.5 0,-212.5 242,-212.5 242,-166.5 0,-166.5\" stroke=\"black\"/>\n",
       "<text font-family=\"Times,serif\" font-size=\"14.00\" text-anchor=\"middle\" x=\"38.5\" y=\"-185.8\">gru2: GRU</text>\n",
       "<polyline fill=\"none\" points=\"77,-166.5 77,-212.5 \" stroke=\"black\"/>\n",
       "<text font-family=\"Times,serif\" font-size=\"14.00\" text-anchor=\"middle\" x=\"104.5\" y=\"-197.3\">input:</text>\n",
       "<polyline fill=\"none\" points=\"77,-189.5 132,-189.5 \" stroke=\"black\"/>\n",
       "<text font-family=\"Times,serif\" font-size=\"14.00\" text-anchor=\"middle\" x=\"104.5\" y=\"-174.3\">output:</text>\n",
       "<polyline fill=\"none\" points=\"132,-166.5 132,-212.5 \" stroke=\"black\"/>\n",
       "<text font-family=\"Times,serif\" font-size=\"14.00\" text-anchor=\"middle\" x=\"187\" y=\"-197.3\">(None, 112, 128)</text>\n",
       "<polyline fill=\"none\" points=\"132,-189.5 242,-189.5 \" stroke=\"black\"/>\n",
       "<text font-family=\"Times,serif\" font-size=\"14.00\" text-anchor=\"middle\" x=\"187\" y=\"-174.3\">(None, 112, 128)</text>\n",
       "</g>\n",
       "<!-- 140317136785744&#45;&gt;140317133771920 -->\n",
       "<g class=\"edge\" id=\"edge10\"><title>140317136785744-&gt;140317133771920</title>\n",
       "<path d=\"M217.657,-249.366C201.676,-239.634 182.748,-228.106 165.896,-217.842\" fill=\"none\" stroke=\"black\"/>\n",
       "<polygon fill=\"black\" points=\"167.66,-214.819 157.299,-212.607 164.019,-220.798 167.66,-214.819\" stroke=\"black\"/>\n",
       "</g>\n",
       "<!-- 140317134672912 -->\n",
       "<g class=\"node\" id=\"node11\"><title>140317134672912</title>\n",
       "<polygon fill=\"none\" points=\"260,-166.5 260,-212.5 516,-212.5 516,-166.5 260,-166.5\" stroke=\"black\"/>\n",
       "<text font-family=\"Times,serif\" font-size=\"14.00\" text-anchor=\"middle\" x=\"305.5\" y=\"-185.8\">gru2_b: GRU</text>\n",
       "<polyline fill=\"none\" points=\"351,-166.5 351,-212.5 \" stroke=\"black\"/>\n",
       "<text font-family=\"Times,serif\" font-size=\"14.00\" text-anchor=\"middle\" x=\"378.5\" y=\"-197.3\">input:</text>\n",
       "<polyline fill=\"none\" points=\"351,-189.5 406,-189.5 \" stroke=\"black\"/>\n",
       "<text font-family=\"Times,serif\" font-size=\"14.00\" text-anchor=\"middle\" x=\"378.5\" y=\"-174.3\">output:</text>\n",
       "<polyline fill=\"none\" points=\"406,-166.5 406,-212.5 \" stroke=\"black\"/>\n",
       "<text font-family=\"Times,serif\" font-size=\"14.00\" text-anchor=\"middle\" x=\"461\" y=\"-197.3\">(None, 112, 128)</text>\n",
       "<polyline fill=\"none\" points=\"406,-189.5 516,-189.5 \" stroke=\"black\"/>\n",
       "<text font-family=\"Times,serif\" font-size=\"14.00\" text-anchor=\"middle\" x=\"461\" y=\"-174.3\">(None, 112, 128)</text>\n",
       "</g>\n",
       "<!-- 140317136785744&#45;&gt;140317134672912 -->\n",
       "<g class=\"edge\" id=\"edge11\"><title>140317136785744-&gt;140317134672912</title>\n",
       "<path d=\"M290.616,-249.366C306.717,-239.634 325.788,-228.106 342.767,-217.842\" fill=\"none\" stroke=\"black\"/>\n",
       "<polygon fill=\"black\" points=\"344.681,-220.775 351.428,-212.607 341.06,-214.785 344.681,-220.775\" stroke=\"black\"/>\n",
       "</g>\n",
       "<!-- 140317132821648 -->\n",
       "<g class=\"node\" id=\"node12\"><title>140317132821648</title>\n",
       "<polygon fill=\"none\" points=\"32,-83.5 32,-129.5 476,-129.5 476,-83.5 32,-83.5\" stroke=\"black\"/>\n",
       "<text font-family=\"Times,serif\" font-size=\"14.00\" text-anchor=\"middle\" x=\"116\" y=\"-102.8\">concatenate_1: Concatenate</text>\n",
       "<polyline fill=\"none\" points=\"200,-83.5 200,-129.5 \" stroke=\"black\"/>\n",
       "<text font-family=\"Times,serif\" font-size=\"14.00\" text-anchor=\"middle\" x=\"227.5\" y=\"-114.3\">input:</text>\n",
       "<polyline fill=\"none\" points=\"200,-106.5 255,-106.5 \" stroke=\"black\"/>\n",
       "<text font-family=\"Times,serif\" font-size=\"14.00\" text-anchor=\"middle\" x=\"227.5\" y=\"-91.3\">output:</text>\n",
       "<polyline fill=\"none\" points=\"255,-83.5 255,-129.5 \" stroke=\"black\"/>\n",
       "<text font-family=\"Times,serif\" font-size=\"14.00\" text-anchor=\"middle\" x=\"365.5\" y=\"-114.3\">[(None, 112, 128), (None, 112, 128)]</text>\n",
       "<polyline fill=\"none\" points=\"255,-106.5 476,-106.5 \" stroke=\"black\"/>\n",
       "<text font-family=\"Times,serif\" font-size=\"14.00\" text-anchor=\"middle\" x=\"365.5\" y=\"-91.3\">(None, 112, 256)</text>\n",
       "</g>\n",
       "<!-- 140317133771920&#45;&gt;140317132821648 -->\n",
       "<g class=\"edge\" id=\"edge12\"><title>140317133771920-&gt;140317132821648</title>\n",
       "<path d=\"M157.343,-166.366C173.324,-156.634 192.252,-145.106 209.104,-134.842\" fill=\"none\" stroke=\"black\"/>\n",
       "<polygon fill=\"black\" points=\"210.981,-137.798 217.701,-129.607 207.34,-131.819 210.981,-137.798\" stroke=\"black\"/>\n",
       "</g>\n",
       "<!-- 140317134672912&#45;&gt;140317132821648 -->\n",
       "<g class=\"edge\" id=\"edge13\"><title>140317134672912-&gt;140317132821648</title>\n",
       "<path d=\"M351.384,-166.366C335.283,-156.634 316.212,-145.106 299.233,-134.842\" fill=\"none\" stroke=\"black\"/>\n",
       "<polygon fill=\"black\" points=\"300.94,-131.785 290.572,-129.607 297.319,-137.775 300.94,-131.785\" stroke=\"black\"/>\n",
       "</g>\n",
       "<!-- 140317031581776 -->\n",
       "<g class=\"node\" id=\"node13\"><title>140317031581776</title>\n",
       "<polygon fill=\"none\" points=\"120.5,-0.5 120.5,-46.5 387.5,-46.5 387.5,-0.5 120.5,-0.5\" stroke=\"black\"/>\n",
       "<text font-family=\"Times,serif\" font-size=\"14.00\" text-anchor=\"middle\" x=\"171.5\" y=\"-19.8\">dense_2: Dense</text>\n",
       "<polyline fill=\"none\" points=\"222.5,-0.5 222.5,-46.5 \" stroke=\"black\"/>\n",
       "<text font-family=\"Times,serif\" font-size=\"14.00\" text-anchor=\"middle\" x=\"250\" y=\"-31.3\">input:</text>\n",
       "<polyline fill=\"none\" points=\"222.5,-23.5 277.5,-23.5 \" stroke=\"black\"/>\n",
       "<text font-family=\"Times,serif\" font-size=\"14.00\" text-anchor=\"middle\" x=\"250\" y=\"-8.3\">output:</text>\n",
       "<polyline fill=\"none\" points=\"277.5,-0.5 277.5,-46.5 \" stroke=\"black\"/>\n",
       "<text font-family=\"Times,serif\" font-size=\"14.00\" text-anchor=\"middle\" x=\"332.5\" y=\"-31.3\">(None, 112, 256)</text>\n",
       "<polyline fill=\"none\" points=\"277.5,-23.5 387.5,-23.5 \" stroke=\"black\"/>\n",
       "<text font-family=\"Times,serif\" font-size=\"14.00\" text-anchor=\"middle\" x=\"332.5\" y=\"-8.3\">(None, 112, 45)</text>\n",
       "</g>\n",
       "<!-- 140317132821648&#45;&gt;140317031581776 -->\n",
       "<g class=\"edge\" id=\"edge14\"><title>140317132821648-&gt;140317031581776</title>\n",
       "<path d=\"M254,-83.3664C254,-75.1516 254,-65.6579 254,-56.7252\" fill=\"none\" stroke=\"black\"/>\n",
       "<polygon fill=\"black\" points=\"257.5,-56.6068 254,-46.6068 250.5,-56.6069 257.5,-56.6068\" stroke=\"black\"/>\n",
       "</g>\n",
       "</g>\n",
       "</svg>"
      ],
      "text/plain": [
       "<IPython.core.display.SVG object>"
      ]
     },
     "execution_count": 7,
     "metadata": {},
     "output_type": "execute_result"
    }
   ],
   "source": [
    "SVG(model_to_dot(base_model, show_shapes=True).create(prog='dot', format='svg'))"
   ]
  },
  {
   "cell_type": "markdown",
   "metadata": {},
   "source": [
    "# 划分部分训练集作为验证集"
   ]
  },
  {
   "cell_type": "code",
   "execution_count": 8,
   "metadata": {},
   "outputs": [
    {
     "name": "stderr",
     "output_type": "stream",
     "text": [
      "100%|██████████| 10240/10240 [00:10<00:00, 1007.26it/s]\n"
     ]
    }
   ],
   "source": [
    "n1 = 350*256 # 89600\n",
    "n2 = 390*256 # 99840\n",
    "\n",
    "X = np.zeros((n2-n1, width, height, channels), dtype=np.uint8)\n",
    "y = np.zeros((n2-n1, n_len), dtype=np.uint8)\n",
    "\n",
    "for i in tqdm(range(n1, n2)):\n",
    "    img = cv2.imread('crop_split2/%d.png'%i).transpose(1, 0, 2)\n",
    "    a, b, _ = img.shape\n",
    "    X[i-n1, :a, :b] = img\n",
    "    \n",
    "    label = df[0][i].decode('utf-8')\n",
    "    y[i-n1,:len(label)] = [characters.find(x) for x in label]\n",
    "    y[i-n1,len(label):] = n_class-1\n",
    "\n",
    "X_val = [X, y, np.ones(n2-n1)*rnn_length, labels_len[n1:n2]] # 用最后的10240个样本来验证"
   ]
  },
  {
   "cell_type": "markdown",
   "metadata": {},
   "source": [
    "# 生成器"
   ]
  },
  {
   "cell_type": "code",
   "execution_count": 9,
   "metadata": {},
   "outputs": [
    {
     "name": "stderr",
     "output_type": "stream",
     "text": [
      "100%|██████████| 89600/89600 [01:34<00:00, 944.04it/s] \n"
     ]
    }
   ],
   "source": [
    "from collections import defaultdict\n",
    "\n",
    "cn_imgs = defaultdict(list)\n",
    "cn_labels = defaultdict(list)\n",
    "ss_imgs = []\n",
    "ss_labels = []\n",
    "\n",
    "for i in tqdm(range(n1)): # 取前89600个样本来生成\n",
    "    ss = df[0][i].decode('utf-8').split(';')\n",
    "    m = len(ss)-1\n",
    "    ss_labels.append(ss[-1])\n",
    "    ss_imgs.append(cv2.imread('crop_split2/%d_%d.png'%(i, 0)).transpose(1, 0, 2))\n",
    "    for j in range(m):\n",
    "        cn_labels[ss[j][0]].append(ss[j])\n",
    "        cn_imgs[ss[j][0]].append(cv2.imread('crop_split2/%d_%d.png'%(i, m-j)).transpose(1, 0, 2))"
   ]
  },
  {
   "cell_type": "code",
   "execution_count": 10,
   "metadata": {
    "collapsed": true
   },
   "outputs": [],
   "source": [
    "from keras.utils import Sequence\n",
    "\n",
    "class SGen(Sequence):\n",
    "    def __init__(self, batch_size):\n",
    "        self.batch_size = batch_size\n",
    "        self.X_gen = np.zeros((batch_size, width, height, 3), dtype=np.uint8)\n",
    "        self.y_gen = np.zeros((batch_size, n_len), dtype=np.uint8)\n",
    "        self.input_length = np.ones(batch_size)*rnn_length\n",
    "        self.label_length = np.ones(batch_size)*38\n",
    "    \n",
    "    def __len__(self):\n",
    "        return 350*256 // self.batch_size\n",
    "    \n",
    "    def __getitem__(self, idx):\n",
    "        self.X_gen[:] = 0\n",
    "        for i in range(self.batch_size):\n",
    "            try:\n",
    "                random_index = random.randint(0, n1-1)\n",
    "                cls = []\n",
    "                ss = ss_labels[random_index]\n",
    "                cs = re.findall(ur'[\\u4e00-\\u9fff]', df[0][random_index].decode('utf-8').split(';')[-1])\n",
    "                random.shuffle(cs)\n",
    "                x = 0\n",
    "                for c in cs:\n",
    "                    random_index2 = random.randint(0, len(cn_labels[c])-1)\n",
    "                    cls.append(cn_labels[c][random_index2])\n",
    "                    img = cn_imgs[c][random_index2]\n",
    "                    w, h, _ = img.shape\n",
    "                    self.X_gen[i, x:x+w, :h] = img\n",
    "                    x += w+2\n",
    "                img = ss_imgs[random_index]\n",
    "                w, h, _ = img.shape\n",
    "                self.X_gen[i, x:x+w, :h] = img\n",
    "                cls.append(ss)\n",
    "\n",
    "                random_str = u';'.join(cls)\n",
    "                self.y_gen[i,:len(random_str)] = [characters.find(x) for x in random_str]\n",
    "                self.y_gen[i,len(random_str):] = n_class-1\n",
    "                self.label_length[i] = len(random_str)\n",
    "            except:\n",
    "                pass\n",
    "        \n",
    "        return [self.X_gen, self.y_gen, self.input_length, self.label_length], np.ones(self.batch_size)"
   ]
  },
  {
   "cell_type": "markdown",
   "metadata": {},
   "source": [
    "### 可视化生成器"
   ]
  },
  {
   "cell_type": "code",
   "execution_count": 11,
   "metadata": {},
   "outputs": [
    {
     "name": "stdout",
     "output_type": "stream",
     "text": [
      "110.0\n",
      "39.0\n",
      "铁=33940;河=95141;85882*(河/76020-37023)-铁\n"
     ]
    },
    {
     "data": {
      "image/png": "[encoded data removed]",
      "text/plain": [
       "<IPython.core.display.Image object>"
      ]
     },
     "metadata": {},
     "output_type": "display_data"
    }
   ],
   "source": [
    "gen = SGen(1)\n",
    "(X_vis, y_vis, input_length_vis, label_length_vis), _ = gen[0]\n",
    "print(input_length_vis[0])\n",
    "print(label_length_vis[0])\n",
    "print(decode(y_vis[0]))\n",
    "disp2(X_vis[0].transpose((1, 0, 2)))"
   ]
  },
  {
   "cell_type": "markdown",
   "metadata": {},
   "source": [
    "# 训练"
   ]
  },
  {
   "cell_type": "code",
   "execution_count": 14,
   "metadata": {
    "collapsed": true
   },
   "outputs": [],
   "source": [
    "def evaluate():\n",
    "    global out\n",
    "    y_pred = base_model2.predict(X, batch_size=128, verbose=1)\n",
    "    out = K.get_value(K.ctc_decode(y_pred[:,2:], input_length=np.ones(y_pred.shape[0])*rnn_length)[0][0])[:, :n_len]\n",
    "    out[out == -1] = n_class-1\n",
    "    score = (out == y[:,:out.shape[-1]]).all(axis=-1).mean()\n",
    "    base_model.save('model_%s_%.6f.h5' % (DESCRIPTION, score))\n",
    "    return score\n",
    "\n",
    "def train(epochs=10, optimizer=None, batch_size=128, callbacks=None):\n",
    "    if optimizer:\n",
    "        model.compile(loss={'ctc': lambda y_true, y_pred: y_pred}, optimizer=optimizer)\n",
    "    model.fit_generator(SGen(batch_size), steps_per_epoch=390, \n",
    "                        workers=6, use_multiprocessing=True,\n",
    "                        validation_data=(X_val, np.ones(n2-n1)), epochs=epochs, callbacks=callbacks)\n",
    "    print(evaluate())"
   ]
  },
  {
   "cell_type": "markdown",
   "metadata": {},
   "source": [
    "# 采用每次训练最好的模型\n",
    "\n",
    "http://keras-cn.readthedocs.io/en/latest/other/callbacks/#modelcheckpoint"
   ]
  },
  {
   "cell_type": "code",
   "execution_count": 13,
   "metadata": {
    "collapsed": true
   },
   "outputs": [],
   "source": [
    "from keras.callbacks import *\n",
    "\n",
    "mc = ModelCheckpoint(MODEL_NAME, save_best_only=True)\n",
    "cl = CSVLogger('model_%s.csv' % DESCRIPTION, append=True)\n",
    "\n",
    "class Evaluator(Callback):\n",
    "    def __init__(self):\n",
    "        self.accs = []\n",
    "    \n",
    "    def on_epoch_end(self, epoch, logs=None):\n",
    "        acc = evaluate()*100\n",
    "        self.accs.append(acc)\n",
    "        print('acc: %f%%' % acc)\n",
    "\n",
    "ev = Evaluator()"
   ]
  },
  {
   "cell_type": "code",
   "execution_count": 14,
   "metadata": {
    "scrolled": false
   },
   "outputs": [
    {
     "name": "stdout",
     "output_type": "stream",
     "text": [
      "Epoch 1/50\n",
      "390/390 [==============================] - 520s - loss: 67.3760 - val_loss: 7.0791\n",
      "Epoch 2/50\n",
      "390/390 [==============================] - 523s - loss: 2.0970 - val_loss: 1.6675\n",
      "Epoch 3/50\n",
      "390/390 [==============================] - 522s - loss: 0.9834 - val_loss: 1.4168\n",
      "Epoch 4/50\n",
      "390/390 [==============================] - 521s - loss: 0.8086 - val_loss: 3.1642\n",
      "Epoch 5/50\n",
      "390/390 [==============================] - 523s - loss: 0.7597 - val_loss: 1.0960\n",
      "Epoch 6/50\n",
      "390/390 [==============================] - 523s - loss: 0.7076 - val_loss: 1.0054\n",
      "Epoch 7/50\n",
      "390/390 [==============================] - 523s - loss: 0.6665 - val_loss: 0.9307\n",
      "Epoch 8/50\n",
      "390/390 [==============================] - 522s - loss: 0.6603 - val_loss: 0.9200\n",
      "Epoch 9/50\n",
      "390/390 [==============================] - 524s - loss: 0.6206 - val_loss: 1.1339\n",
      "Epoch 10/50\n",
      "390/390 [==============================] - 523s - loss: 0.6250 - val_loss: 0.9328\n",
      "Epoch 11/50\n",
      "390/390 [==============================] - 525s - loss: 0.6113 - val_loss: 0.6485\n",
      "Epoch 12/50\n",
      "390/390 [==============================] - 525s - loss: 0.5880 - val_loss: 0.6735\n",
      "Epoch 13/50\n",
      "390/390 [==============================] - 519s - loss: 0.5686 - val_loss: 1.3073\n",
      "Epoch 14/50\n",
      "390/390 [==============================] - 523s - loss: 0.5622 - val_loss: 0.7076\n",
      "Epoch 15/50\n",
      "390/390 [==============================] - 522s - loss: 0.5543 - val_loss: 0.5705\n",
      "Epoch 16/50\n",
      "390/390 [==============================] - 524s - loss: 0.5460 - val_loss: 0.8837\n",
      "Epoch 17/50\n",
      "390/390 [==============================] - 523s - loss: 0.5379 - val_loss: 0.6000\n",
      "Epoch 18/50\n",
      "390/390 [==============================] - 519s - loss: 0.5478 - val_loss: 3.0010\n",
      "Epoch 19/50\n",
      "390/390 [==============================] - 523s - loss: 0.5444 - val_loss: 0.5377\n",
      "Epoch 20/50\n",
      "390/390 [==============================] - 522s - loss: 0.5015 - val_loss: 0.5837\n",
      "Epoch 21/50\n",
      "390/390 [==============================] - 519s - loss: 0.5039 - val_loss: 14.4374\n",
      "Epoch 22/50\n",
      "390/390 [==============================] - 517s - loss: 0.5125 - val_loss: 0.6311\n",
      "Epoch 23/50\n",
      "390/390 [==============================] - 516s - loss: 0.4959 - val_loss: 0.8603\n",
      "Epoch 24/50\n",
      "390/390 [==============================] - 517s - loss: 0.4674 - val_loss: 0.4551\n",
      "Epoch 25/50\n",
      "390/390 [==============================] - 515s - loss: 0.4582 - val_loss: 0.5902\n",
      "Epoch 26/50\n",
      "390/390 [==============================] - 516s - loss: 0.4443 - val_loss: 0.4657\n",
      "Epoch 27/50\n",
      "390/390 [==============================] - 515s - loss: 0.5454 - val_loss: 0.7502\n",
      "Epoch 28/50\n",
      "390/390 [==============================] - 516s - loss: 0.5120 - val_loss: 1.4974\n",
      "Epoch 29/50\n",
      "390/390 [==============================] - 514s - loss: 0.4681 - val_loss: 0.6189\n",
      "Epoch 30/50\n",
      "390/390 [==============================] - 514s - loss: 0.4730 - val_loss: 0.4317\n",
      "Epoch 31/50\n",
      "390/390 [==============================] - 515s - loss: 0.4136 - val_loss: 0.5464\n",
      "Epoch 32/50\n",
      "390/390 [==============================] - 516s - loss: 0.4205 - val_loss: 1.2078\n",
      "Epoch 33/50\n",
      "390/390 [==============================] - 515s - loss: 0.3985 - val_loss: 0.5356\n",
      "Epoch 34/50\n",
      "390/390 [==============================] - 515s - loss: 0.4152 - val_loss: 0.3879\n",
      "Epoch 35/50\n",
      "390/390 [==============================] - 517s - loss: 0.4117 - val_loss: 0.7477\n",
      "Epoch 36/50\n",
      "390/390 [==============================] - 516s - loss: 0.3948 - val_loss: 0.4813\n",
      "Epoch 37/50\n",
      "390/390 [==============================] - 518s - loss: 0.4062 - val_loss: 1.2658\n",
      "Epoch 38/50\n",
      "390/390 [==============================] - 521s - loss: 0.3745 - val_loss: 0.7688\n",
      "Epoch 39/50\n",
      "390/390 [==============================] - 520s - loss: 0.3546 - val_loss: 0.4661\n",
      "Epoch 40/50\n",
      "390/390 [==============================] - 521s - loss: 0.3819 - val_loss: 0.6336\n",
      "Epoch 41/50\n",
      "390/390 [==============================] - 519s - loss: 0.3679 - val_loss: 0.5752\n",
      "Epoch 42/50\n",
      "390/390 [==============================] - 521s - loss: 0.3490 - val_loss: 0.5478\n",
      "Epoch 43/50\n",
      "390/390 [==============================] - 522s - loss: 0.3500 - val_loss: 0.4112\n",
      "Epoch 44/50\n",
      "390/390 [==============================] - 518s - loss: 0.3489 - val_loss: 9.1006\n",
      "Epoch 45/50\n",
      "390/390 [==============================] - 513s - loss: 0.3999 - val_loss: 5.3200\n",
      "Epoch 46/50\n",
      "390/390 [==============================] - 513s - loss: 0.3543 - val_loss: 0.5263\n",
      "Epoch 47/50\n",
      "390/390 [==============================] - 512s - loss: 0.3701 - val_loss: 0.5150\n",
      "Epoch 48/50\n",
      "390/390 [==============================] - 512s - loss: 0.3478 - val_loss: 0.3652\n",
      "Epoch 49/50\n",
      "390/390 [==============================] - 514s - loss: 0.3339 - val_loss: 0.3858\n",
      "Epoch 50/50\n",
      "390/390 [==============================] - 512s - loss: 0.3325 - val_loss: 0.3689\n",
      "10240/10240 [==============================] - 35s    \n",
      "0.97763671875\n"
     ]
    }
   ],
   "source": [
    "opt = Adam()\n",
    "train(epochs=50, optimizer=opt, callbacks=[mc, cl])"
   ]
  },
  {
   "cell_type": "code",
   "execution_count": 15,
   "metadata": {},
   "outputs": [
    {
     "name": "stdout",
     "output_type": "stream",
     "text": [
      "10240/10240 [==============================] - 33s    \n"
     ]
    },
    {
     "data": {
      "text/plain": [
       "0.97910156250000002"
      ]
     },
     "execution_count": 15,
     "metadata": {},
     "output_type": "execute_result"
    }
   ],
   "source": [
    "model.load_weights(MODEL_NAME)\n",
    "evaluate()"
   ]
  },
  {
   "cell_type": "code",
   "execution_count": 16,
   "metadata": {
    "scrolled": false
   },
   "outputs": [
    {
     "name": "stdout",
     "output_type": "stream",
     "text": [
      "Epoch 1/50\n",
      "390/390 [==============================] - 516s - loss: 0.3033 - val_loss: 0.2976\n",
      "Epoch 2/50\n",
      "390/390 [==============================] - 514s - loss: 0.2811 - val_loss: 0.2929\n",
      "Epoch 3/50\n",
      "390/390 [==============================] - 514s - loss: 0.2752 - val_loss: 0.2796\n",
      "Epoch 4/50\n",
      "390/390 [==============================] - 515s - loss: 0.2582 - val_loss: 0.2643\n",
      "Epoch 5/50\n",
      "390/390 [==============================] - 518s - loss: 0.2483 - val_loss: 0.2565\n",
      "Epoch 6/50\n",
      "390/390 [==============================] - 516s - loss: 0.2396 - val_loss: 0.2459\n",
      "Epoch 7/50\n",
      "390/390 [==============================] - 515s - loss: 0.2294 - val_loss: 0.2381\n",
      "Epoch 8/50\n",
      "390/390 [==============================] - 515s - loss: 0.2208 - val_loss: 0.2295\n",
      "Epoch 9/50\n",
      "390/390 [==============================] - 514s - loss: 0.2137 - val_loss: 0.2241\n",
      "Epoch 10/50\n",
      "390/390 [==============================] - 514s - loss: 0.2059 - val_loss: 0.2143\n",
      "Epoch 11/50\n",
      "390/390 [==============================] - 512s - loss: 0.1985 - val_loss: 0.2095\n",
      "Epoch 12/50\n",
      "390/390 [==============================] - 515s - loss: 0.1933 - val_loss: 0.2148\n",
      "Epoch 13/50\n",
      "390/390 [==============================] - 516s - loss: 0.1866 - val_loss: 0.1958\n",
      "Epoch 14/50\n",
      "390/390 [==============================] - 516s - loss: 0.1817 - val_loss: 0.2011\n",
      "Epoch 15/50\n",
      "390/390 [==============================] - 516s - loss: 0.1782 - val_loss: 0.1858\n",
      "Epoch 16/50\n",
      "390/390 [==============================] - 514s - loss: 0.1807 - val_loss: 0.1884\n",
      "Epoch 17/50\n",
      "390/390 [==============================] - 516s - loss: 0.1692 - val_loss: 0.1802\n",
      "Epoch 18/50\n",
      "390/390 [==============================] - 516s - loss: 0.1641 - val_loss: 0.1712\n",
      "Epoch 19/50\n",
      "390/390 [==============================] - 517s - loss: 0.1591 - val_loss: 0.1772\n",
      "Epoch 20/50\n",
      "390/390 [==============================] - 515s - loss: 0.1645 - val_loss: 0.1757\n",
      "Epoch 21/50\n",
      "390/390 [==============================] - 515s - loss: 0.1575 - val_loss: 0.1661\n",
      "Epoch 22/50\n",
      "390/390 [==============================] - 517s - loss: 0.1496 - val_loss: 0.1614\n",
      "Epoch 23/50\n",
      "390/390 [==============================] - 515s - loss: 0.1473 - val_loss: 0.1616\n",
      "Epoch 24/50\n",
      "390/390 [==============================] - 517s - loss: 0.1516 - val_loss: 0.1551\n",
      "Epoch 25/50\n",
      "390/390 [==============================] - 517s - loss: 0.1491 - val_loss: 0.1569\n",
      "Epoch 26/50\n",
      "390/390 [==============================] - 518s - loss: 0.1405 - val_loss: 0.1568\n",
      "Epoch 27/50\n",
      "390/390 [==============================] - 516s - loss: 0.1440 - val_loss: 0.1557\n",
      "Epoch 28/50\n",
      "390/390 [==============================] - 514s - loss: 0.1363 - val_loss: 0.1584\n",
      "Epoch 29/50\n",
      "390/390 [==============================] - 513s - loss: 0.1329 - val_loss: 0.1456\n",
      "Epoch 30/50\n",
      "390/390 [==============================] - 511s - loss: 0.1306 - val_loss: 0.1438\n",
      "Epoch 31/50\n",
      "390/390 [==============================] - 512s - loss: 0.1281 - val_loss: 0.1426\n",
      "Epoch 32/50\n",
      "390/390 [==============================] - 512s - loss: 0.1271 - val_loss: 0.1496\n",
      "Epoch 33/50\n",
      "390/390 [==============================] - 512s - loss: 0.1257 - val_loss: 0.1388\n",
      "Epoch 34/50\n",
      "390/390 [==============================] - 513s - loss: 0.1234 - val_loss: 0.1337\n",
      "Epoch 35/50\n",
      "390/390 [==============================] - 514s - loss: 0.1308 - val_loss: 0.1423\n",
      "Epoch 36/50\n",
      "390/390 [==============================] - 512s - loss: 0.1248 - val_loss: 0.1359\n",
      "Epoch 37/50\n",
      "390/390 [==============================] - 514s - loss: 0.1185 - val_loss: 0.1321\n",
      "Epoch 38/50\n",
      "390/390 [==============================] - 514s - loss: 0.1169 - val_loss: 0.1292\n",
      "Epoch 39/50\n",
      "390/390 [==============================] - 517s - loss: 0.1158 - val_loss: 0.1322\n",
      "Epoch 40/50\n",
      "390/390 [==============================] - 517s - loss: 0.1202 - val_loss: 0.1313\n",
      "Epoch 41/50\n",
      "390/390 [==============================] - 519s - loss: 0.1133 - val_loss: 0.1244\n",
      "Epoch 42/50\n",
      "390/390 [==============================] - 514s - loss: 0.1120 - val_loss: 0.1309\n",
      "Epoch 43/50\n",
      "390/390 [==============================] - 516s - loss: 0.1130 - val_loss: 0.1247\n",
      "Epoch 44/50\n",
      "390/390 [==============================] - 519s - loss: 0.1092 - val_loss: 0.1218\n",
      "Epoch 45/50\n",
      "390/390 [==============================] - 517s - loss: 0.1069 - val_loss: 0.1187\n",
      "Epoch 46/50\n",
      "390/390 [==============================] - 514s - loss: 0.1071 - val_loss: 0.1158\n",
      "Epoch 47/50\n",
      "390/390 [==============================] - 512s - loss: 0.1068 - val_loss: 0.1222\n",
      "Epoch 48/50\n",
      "390/390 [==============================] - 512s - loss: 0.1075 - val_loss: 0.1249\n",
      "Epoch 49/50\n",
      "390/390 [==============================] - 513s - loss: 0.1043 - val_loss: 0.1145\n",
      "Epoch 50/50\n",
      "390/390 [==============================] - 511s - loss: 0.1017 - val_loss: 0.1171\n",
      "10240/10240 [==============================] - 33s    \n",
      "0.9966796875\n"
     ]
    }
   ],
   "source": [
    "opt = Adam(1e-4)\n",
    "train(epochs=50, optimizer=opt, callbacks=[mc, cl])"
   ]
  },
  {
   "cell_type": "code",
   "execution_count": 17,
   "metadata": {},
   "outputs": [
    {
     "name": "stdout",
     "output_type": "stream",
     "text": [
      "10240/10240 [==============================] - 34s    \n"
     ]
    },
    {
     "data": {
      "text/plain": [
       "0.99726562500000004"
      ]
     },
     "execution_count": 17,
     "metadata": {},
     "output_type": "execute_result"
    }
   ],
   "source": [
    "model.load_weights(MODEL_NAME)\n",
    "evaluate()"
   ]
  },
  {
   "cell_type": "code",
   "execution_count": 18,
   "metadata": {
    "scrolled": false
   },
   "outputs": [
    {
     "name": "stdout",
     "output_type": "stream",
     "text": [
      "Epoch 1/20\n",
      "10240/10240 [==============================] - 33s    \n",
      "acc: 99.736328%\n",
      "390/390 [==============================] - 480s - loss: 0.1023 - val_loss: 0.1125\n",
      "Epoch 2/20\n",
      "10240/10240 [==============================] - 34s    \n",
      "acc: 99.746094%\n",
      "390/390 [==============================] - 480s - loss: 0.1016 - val_loss: 0.1116\n",
      "Epoch 3/20\n",
      "10240/10240 [==============================] - 34s    \n",
      "acc: 99.736328%\n",
      "390/390 [==============================] - 481s - loss: 0.1014 - val_loss: 0.1110\n",
      "Epoch 4/20\n",
      "10240/10240 [==============================] - 34s    \n",
      "acc: 99.755859%\n",
      "390/390 [==============================] - 482s - loss: 0.1010 - val_loss: 0.1106\n",
      "Epoch 5/20\n",
      "10240/10240 [==============================] - 34s    \n",
      "acc: 99.726562%\n",
      "390/390 [==============================] - 484s - loss: 0.1211 - val_loss: 0.1110\n",
      "Epoch 6/20\n",
      "10240/10240 [==============================] - 34s    \n",
      "acc: 99.736328%\n",
      "390/390 [==============================] - 488s - loss: 0.1006 - val_loss: 0.1108\n",
      "Epoch 7/20\n",
      "10240/10240 [==============================] - 34s    \n",
      "acc: 99.716797%\n",
      "390/390 [==============================] - 489s - loss: 0.1001 - val_loss: 0.1110\n",
      "Epoch 8/20\n",
      "10240/10240 [==============================] - 37s    \n",
      "acc: 99.746094%\n",
      "390/390 [==============================] - 498s - loss: 0.0998 - val_loss: 0.1102\n",
      "Epoch 9/20\n",
      "10240/10240 [==============================] - 39s    \n",
      "acc: 99.736328%\n",
      "390/390 [==============================] - 502s - loss: 0.0996 - val_loss: 0.1097\n",
      "Epoch 10/20\n",
      "10240/10240 [==============================] - 39s    \n",
      "acc: 99.736328%\n",
      "390/390 [==============================] - 508s - loss: 0.0991 - val_loss: 0.1095\n",
      "Epoch 11/20\n",
      "10240/10240 [==============================] - 38s    \n",
      "acc: 99.716797%\n",
      "390/390 [==============================] - 513s - loss: 0.0987 - val_loss: 0.1089\n",
      "Epoch 12/20\n",
      "10240/10240 [==============================] - 41s    \n",
      "acc: 99.726562%\n",
      "390/390 [==============================] - 524s - loss: 0.0982 - val_loss: 0.1089\n",
      "Epoch 13/20\n",
      "10240/10240 [==============================] - 44s    \n",
      "acc: 99.736328%\n",
      "390/390 [==============================] - 529s - loss: 0.0977 - val_loss: 0.1079\n",
      "Epoch 14/20\n",
      "10240/10240 [==============================] - 43s    \n",
      "acc: 99.765625%\n",
      "390/390 [==============================] - 541s - loss: 0.0972 - val_loss: 0.1067\n",
      "Epoch 15/20\n",
      "10240/10240 [==============================] - 43s    \n",
      "acc: 99.726562%\n",
      "390/390 [==============================] - 538s - loss: 0.1046 - val_loss: 0.1071\n",
      "Epoch 16/20\n",
      "10240/10240 [==============================] - 48s    \n",
      "acc: 99.726562%\n",
      "390/390 [==============================] - 553s - loss: 0.0962 - val_loss: 0.1064\n",
      "Epoch 17/20\n",
      "10240/10240 [==============================] - 44s    \n",
      "acc: 99.746094%\n",
      "390/390 [==============================] - 553s - loss: 0.0958 - val_loss: 0.1053\n",
      "Epoch 18/20\n",
      "10240/10240 [==============================] - 43s    \n",
      "acc: 99.765625%\n",
      "390/390 [==============================] - 547s - loss: 0.0952 - val_loss: 0.1046\n",
      "Epoch 19/20\n",
      "196/390 [==============>...............] - ETA: 225s - loss: 0.0948"
     ]
    }
   ],
   "source": [
    "opt = Adam(1e-5)\n",
    "train(epochs=20, optimizer=opt, batch_size=100, callbacks=[mc, cl, ev])"
   ]
  },
  {
   "cell_type": "code",
   "execution_count": 19,
   "metadata": {},
   "outputs": [
    {
     "name": "stdout",
     "output_type": "stream",
     "text": [
      "10240/10240 [==============================] - 33s    \n"
     ]
    },
    {
     "data": {
      "text/plain": [
       "0.99765625000000002"
      ]
     },
     "execution_count": 19,
     "metadata": {},
     "output_type": "execute_result"
    }
   ],
   "source": [
    "evaluate()"
   ]
  },
  {
   "cell_type": "code",
   "execution_count": 16,
   "metadata": {
    "collapsed": true
   },
   "outputs": [],
   "source": [
    "base_model.load_weights('model_346_split2_3_0.997656.h5')"
   ]
  },
  {
   "cell_type": "code",
   "execution_count": 17,
   "metadata": {},
   "outputs": [
    {
     "name": "stdout",
     "output_type": "stream",
     "text": [
      "Epoch 1/20\n",
      "10240/10240 [==============================] - 35s    \n",
      "acc: 99.726562%\n",
      "390/390 [==============================] - 416s - loss: 0.0941 - val_loss: 0.1045\n",
      "Epoch 2/20\n",
      "10240/10240 [==============================] - 34s    \n",
      "acc: 99.716797%\n",
      "390/390 [==============================] - 413s - loss: 0.1036 - val_loss: 0.1041\n",
      "Epoch 3/20\n",
      "10240/10240 [==============================] - 34s    \n",
      "acc: 99.716797%\n",
      "390/390 [==============================] - 412s - loss: 0.0931 - val_loss: 0.1037\n",
      "Epoch 4/20\n",
      "10240/10240 [==============================] - 34s    \n",
      "acc: 99.716797%\n",
      "390/390 [==============================] - 413s - loss: 0.0927 - val_loss: 0.1032\n",
      "Epoch 5/20\n",
      "10240/10240 [==============================] - 34s    \n",
      "acc: 99.746094%\n",
      "390/390 [==============================] - 415s - loss: 0.0921 - val_loss: 0.1026\n",
      "Epoch 6/20\n",
      "10240/10240 [==============================] - 34s    \n",
      "acc: 99.755859%\n",
      "390/390 [==============================] - 414s - loss: 0.0916 - val_loss: 0.1020\n",
      "Epoch 7/20\n",
      "10240/10240 [==============================] - 34s    \n",
      "acc: 99.755859%\n",
      "390/390 [==============================] - 413s - loss: 0.1019 - val_loss: 0.1013\n",
      "Epoch 8/20\n",
      "10240/10240 [==============================] - 34s    \n",
      "acc: 99.726562%\n",
      "390/390 [==============================] - 416s - loss: 0.0905 - val_loss: 0.1017\n",
      "Epoch 9/20\n",
      "10240/10240 [==============================] - 34s    \n",
      "acc: 99.746094%\n",
      "390/390 [==============================] - 414s - loss: 0.0902 - val_loss: 0.1010\n",
      "Epoch 10/20\n",
      "10240/10240 [==============================] - 35s    \n",
      "acc: 99.746094%\n",
      "390/390 [==============================] - 413s - loss: 0.0898 - val_loss: 0.1010\n",
      "Epoch 11/20\n",
      "10240/10240 [==============================] - 34s    \n",
      "acc: 99.746094%\n",
      "390/390 [==============================] - 414s - loss: 0.0895 - val_loss: 0.0997\n",
      "Epoch 12/20\n",
      "10240/10240 [==============================] - 35s    \n",
      "acc: 99.775391%\n",
      "390/390 [==============================] - 414s - loss: 0.0891 - val_loss: 0.0995\n",
      "Epoch 13/20\n",
      "10240/10240 [==============================] - 35s    \n",
      "acc: 99.765625%\n",
      "390/390 [==============================] - 415s - loss: 0.0888 - val_loss: 0.0990\n",
      "Epoch 14/20\n",
      "10240/10240 [==============================] - 35s    \n",
      "acc: 99.775391%\n",
      "390/390 [==============================] - 414s - loss: 0.0885 - val_loss: 0.0995\n",
      "Epoch 15/20\n",
      "10240/10240 [==============================] - 35s    \n",
      "acc: 99.746094%\n",
      "390/390 [==============================] - 413s - loss: 0.0880 - val_loss: 0.0989\n",
      "Epoch 16/20\n",
      "10240/10240 [==============================] - 34s    \n",
      "acc: 99.775391%\n",
      "390/390 [==============================] - 413s - loss: 0.1026 - val_loss: 0.0993\n",
      "Epoch 17/20\n",
      "10240/10240 [==============================] - 34s    \n",
      "acc: 99.726562%\n",
      "390/390 [==============================] - 413s - loss: 0.0874 - val_loss: 0.0993\n",
      "Epoch 18/20\n",
      "10240/10240 [==============================] - 34s    \n",
      "acc: 99.736328%\n",
      "390/390 [==============================] - 413s - loss: 0.0871 - val_loss: 0.0991\n",
      "Epoch 19/20\n",
      "10240/10240 [==============================] - 35s    \n",
      "acc: 99.746094%\n",
      "390/390 [==============================] - 415s - loss: 0.0868 - val_loss: 0.0994\n",
      "Epoch 20/20\n",
      "10240/10240 [==============================] - 35s    \n",
      "acc: 99.755859%\n",
      "390/390 [==============================] - 419s - loss: 0.0864 - val_loss: 0.0976\n",
      "10240/10240 [==============================] - 35s    \n",
      "0.99755859375\n"
     ]
    }
   ],
   "source": [
    "opt = Adam(1e-5)\n",
    "train(epochs=20, optimizer=opt, batch_size=64, callbacks=[mc, cl, ev])"
   ]
  },
  {
   "cell_type": "code",
   "execution_count": 18,
   "metadata": {
    "collapsed": true
   },
   "outputs": [],
   "source": [
    "base_model.load_weights('model_346_split2_3_0.997754.h5')"
   ]
  },
  {
   "cell_type": "markdown",
   "metadata": {},
   "source": [
    "# 总体准确率"
   ]
  },
  {
   "cell_type": "code",
   "execution_count": 19,
   "metadata": {},
   "outputs": [
    {
     "name": "stdout",
     "output_type": "stream",
     "text": [
      "10240/10240 [==============================] - 34s    \n"
     ]
    }
   ],
   "source": [
    "y_pred = base_model2.predict(X, batch_size=128, verbose=1)"
   ]
  },
  {
   "cell_type": "code",
   "execution_count": 39,
   "metadata": {},
   "outputs": [
    {
     "data": {
      "text/plain": [
       "0.99775390625000004"
      ]
     },
     "execution_count": 39,
     "metadata": {},
     "output_type": "execute_result"
    }
   ],
   "source": [
    "out = K.get_value(K.ctc_decode(y_pred[:,2:], input_length=np.ones(y_pred.shape[0])*rnn_length)[0][0])[:, :n_len]\n",
    "out[out == -1] = n_class-1\n",
    "score = (out == y[:,:out.shape[-1]]).all(axis=-1).mean()\n",
    "score"
   ]
  },
  {
   "cell_type": "code",
   "execution_count": 40,
   "metadata": {
    "collapsed": true
   },
   "outputs": [],
   "source": [
    "sp = map(decode, out)\n",
    "st = map(decode, y)"
   ]
  },
  {
   "cell_type": "markdown",
   "metadata": {},
   "source": [
    "# 赋值式准确率与表达式准确率"
   ]
  },
  {
   "cell_type": "code",
   "execution_count": 47,
   "metadata": {},
   "outputs": [
    {
     "data": {
      "text/plain": [
       "0.99990234374999998"
      ]
     },
     "execution_count": 47,
     "metadata": {},
     "output_type": "execute_result"
    }
   ],
   "source": [
    "np.array([a.split(';')[:-1] == b.split(';')[:-1] for a, b in zip(sp, st)]).mean()"
   ]
  },
  {
   "cell_type": "code",
   "execution_count": 48,
   "metadata": {},
   "outputs": [
    {
     "data": {
      "text/plain": [
       "0.99785156249999996"
      ]
     },
     "execution_count": 48,
     "metadata": {},
     "output_type": "execute_result"
    }
   ],
   "source": [
    "np.array([a.split(';')[-1] == b.split(';')[-1] for a, b in zip(sp, st)]).mean()"
   ]
  }
 ],
 "metadata": {
  "kernelspec": {
   "display_name": "Python 3",
   "language": "python",
   "name": "python3"
  },
  "language_info": {
   "codemirror_mode": {
    "name": "ipython",
    "version": 3
   },
   "file_extension": ".py",
   "mimetype": "text/x-python",
   "name": "python",
   "nbconvert_exporter": "python",
   "pygments_lexer": "ipython3",
   "version": "3.6.4"
  }
 },
 "nbformat": 4,
 "nbformat_minor": 2
}
